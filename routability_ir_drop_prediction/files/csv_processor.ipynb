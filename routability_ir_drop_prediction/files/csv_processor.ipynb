{
 "cells": [
  {
   "cell_type": "code",
   "execution_count": 3,
   "id": "ef2f754e",
   "metadata": {},
   "outputs": [
    {
     "name": "stdout",
     "output_type": "stream",
     "text": [
      "                                                  0  \\\n",
      "0       feature/2187-RISCY-b-1-c2-u0.8-m1-p8-f1.npy   \n",
      "1  feature/5107-RISCY-FPU-a-2-c20-u0.7-m1-p2-f1.npy   \n",
      "2      feature/1523-RISCY-a-3-c2-u0.75-m2-p5-f1.npy   \n",
      "3  feature/6155-RISCY-FPU-b-1-c5-u0.85-m3-p5-f1.npy   \n",
      "4      feature/3316-RISCY-b-2-c20-u0.8-m3-p5-f1.npy   \n",
      "\n",
      "                                                1  \n",
      "0       label/2187-RISCY-b-1-c2-u0.8-m1-p8-f1.npy  \n",
      "1  label/5107-RISCY-FPU-a-2-c20-u0.7-m1-p2-f1.npy  \n",
      "2      label/1523-RISCY-a-3-c2-u0.75-m2-p5-f1.npy  \n",
      "3  label/6155-RISCY-FPU-b-1-c5-u0.85-m3-p5-f1.npy  \n",
      "4      label/3316-RISCY-b-2-c20-u0.8-m3-p5-f1.npy  \n"
     ]
    }
   ],
   "source": [
    "import pandas as pd\n",
    "\n",
    "# Assuming your cdv file is named \"data.cdv\"\n",
    "df = pd.read_csv(\"train_N28.csv\", sep=\",\", header=None)\n",
    "print(df.head())"
   ]
  },
  {
   "cell_type": "code",
   "execution_count": 11,
   "id": "82f098bc",
   "metadata": {},
   "outputs": [],
   "source": [
    "# Extract the number before the \"-\" symbol\n",
    "df[\"number\"] = df[0].str.split(\"/\").str[1]\n",
    "df[\"number\"] = df[\"number\"].str.split(\"-\").str[0]\n",
    "\n",
    "# Convert the number column to integer\n",
    "df[\"number\"] = pd.to_numeric(df[\"number\"])\n",
    "\n",
    "# Filter the dataframe to keep rows with number <= 2000\n",
    "filtered_df = df[df[\"number\"] <= 1000].drop(\"number\", axis=1)  # Remove number column"
   ]
  },
  {
   "cell_type": "code",
   "execution_count": 12,
   "id": "92c8387e",
   "metadata": {},
   "outputs": [
    {
     "name": "stdout",
     "output_type": "stream",
     "text": [
      "                                              0  \\\n",
      "10   feature/393-RISCY-a-1-c5-u0.7-m3-p2-f1.npy   \n",
      "22  feature/503-RISCY-a-1-c20-u0.7-m2-p3-f0.npy   \n",
      "28   feature/143-RISCY-a-1-c2-u0.7-m2-p8-f1.npy   \n",
      "31   feature/954-RISCY-a-2-c2-u0.9-m3-p4-f1.npy   \n",
      "41   feature/244-RISCY-a-1-c2-u0.9-m3-p5-f1.npy   \n",
      "\n",
      "                                            1  \n",
      "10   label/393-RISCY-a-1-c5-u0.7-m3-p2-f1.npy  \n",
      "22  label/503-RISCY-a-1-c20-u0.7-m2-p3-f0.npy  \n",
      "28   label/143-RISCY-a-1-c2-u0.7-m2-p8-f1.npy  \n",
      "31   label/954-RISCY-a-2-c2-u0.9-m3-p4-f1.npy  \n",
      "41   label/244-RISCY-a-1-c2-u0.9-m3-p5-f1.npy  \n"
     ]
    }
   ],
   "source": [
    "print(filtered_df.head())"
   ]
  },
  {
   "cell_type": "code",
   "execution_count": 13,
   "id": "c2beac7a",
   "metadata": {},
   "outputs": [],
   "source": [
    "# Write the filtered data to a new file (data_filtered.cdv)\n",
    "filtered_df.to_csv(\"new_N28.csv\", sep=\",\", header=None, index=False)\n"
   ]
  },
  {
   "cell_type": "code",
   "execution_count": 25,
   "id": "c1e2acc2",
   "metadata": {},
   "outputs": [
    {
     "name": "stdout",
     "output_type": "stream",
     "text": [
      "                                                   0  \\\n",
      "0  feature/8861-zero-riscy-a-3-c5-u0.75-m2-p7-f1.npy   \n",
      "1  feature/8896-zero-riscy-a-3-c5-u0.85-m1-p2-f1.npy   \n",
      "2   feature/7354-zero-riscy-a-1-c2-u0.9-m3-p2-f1.npy   \n",
      "3   feature/7947-zero-riscy-a-2-c2-u0.8-m2-p1-f0.npy   \n",
      "4   feature/7297-zero-riscy-a-1-c2-u0.8-m2-p1-f1.npy   \n",
      "\n",
      "                                                 1  \n",
      "0  label/8861-zero-riscy-a-3-c5-u0.75-m2-p7-f1.npy  \n",
      "1  label/8896-zero-riscy-a-3-c5-u0.85-m1-p2-f1.npy  \n",
      "2   label/7354-zero-riscy-a-1-c2-u0.9-m3-p2-f1.npy  \n",
      "3   label/7947-zero-riscy-a-2-c2-u0.8-m2-p1-f0.npy  \n",
      "4   label/7297-zero-riscy-a-1-c2-u0.8-m2-p1-f1.npy  \n"
     ]
    }
   ],
   "source": [
    "# Define the replacement function\n",
    "def replace_substrings(text):\n",
    "  return text.replace('feature/', 'feature2/').replace('label/', 'label2/')\n",
    "\n",
    "\n",
    "# Processing test_N28.csv\n",
    "tdf = pd.read_csv(\"test_N28.csv\", sep=\",\", header=None)\n",
    "print(tdf.head())"
   ]
  },
  {
   "cell_type": "code",
   "execution_count": 20,
   "id": "58671a62",
   "metadata": {},
   "outputs": [],
   "source": [
    "# # Extract the number before the \"-\" symbol\n",
    "# tdf[\"number\"] = tdf[0].str.split(\"/\").str[1]\n",
    "# tdf[\"number\"] = tdf[\"number\"].str.split(\"-\").str[0]\n",
    "\n",
    "# # Convert the number column to integer\n",
    "# tdf[\"number\"] = pd.to_numeric(tdf[\"number\"])\n",
    "\n",
    "# # Filter the dataframe to keep rows with number <= 2000\n",
    "# # filtered_df = tdf[tdf[\"number\"] <= 3000].drop(\"number\", axis=1)  # Remove number column\n",
    "# filtered_tdf = tdf[tdf[\"number\"] <= 3000]  # Remove number column"
   ]
  },
  {
   "cell_type": "code",
   "execution_count": 27,
   "id": "4b756456",
   "metadata": {},
   "outputs": [],
   "source": [
    "\n",
    "# Apply the replacement function to the first column (assuming your data is in the first column)\n",
    "tdf = tdf.apply(replace_substrings)"
   ]
  },
  {
   "cell_type": "code",
   "execution_count": 29,
   "id": "cea90b99",
   "metadata": {},
   "outputs": [
    {
     "name": "stdout",
     "output_type": "stream",
     "text": [
      "Empty DataFrame\n",
      "Columns: [0, 1, number]\n",
      "Index: []\n",
      "                                                   0  \\\n",
      "0  feature2/8861-zero-riscy-a-3-c5-u0.75-m2-p7-f1...   \n",
      "1  feature2/8896-zero-riscy-a-3-c5-u0.85-m1-p2-f1...   \n",
      "2  feature2/7354-zero-riscy-a-1-c2-u0.9-m3-p2-f1.npy   \n",
      "3  feature2/7947-zero-riscy-a-2-c2-u0.8-m2-p1-f0.npy   \n",
      "4  feature2/7297-zero-riscy-a-1-c2-u0.8-m2-p1-f1.npy   \n",
      "\n",
      "                                                 1  \n",
      "0  label/8861-zero-riscy-a-3-c5-u0.75-m2-p7-f1.npy  \n",
      "1  label/8896-zero-riscy-a-3-c5-u0.85-m1-p2-f1.npy  \n",
      "2   label/7354-zero-riscy-a-1-c2-u0.9-m3-p2-f1.npy  \n",
      "3   label/7947-zero-riscy-a-2-c2-u0.8-m2-p1-f0.npy  \n",
      "4   label/7297-zero-riscy-a-1-c2-u0.8-m2-p1-f1.npy  \n"
     ]
    }
   ],
   "source": [
    "print(tdf.head())\n",
    "# print(tdf[\"number\"].head())"
   ]
  },
  {
   "cell_type": "code",
   "execution_count": 31,
   "id": "c04c3c92",
   "metadata": {},
   "outputs": [
    {
     "name": "stdout",
     "output_type": "stream",
     "text": [
      "                                                   0  \\\n",
      "0  feature2/8861-zero-riscy-a-3-c5-u0.75-m2-p7-f1...   \n",
      "1  feature2/8896-zero-riscy-a-3-c5-u0.85-m1-p2-f1...   \n",
      "2  feature2/7354-zero-riscy-a-1-c2-u0.9-m3-p2-f1.npy   \n",
      "3  feature2/7947-zero-riscy-a-2-c2-u0.8-m2-p1-f0.npy   \n",
      "4  feature2/7297-zero-riscy-a-1-c2-u0.8-m2-p1-f1.npy   \n",
      "\n",
      "                                                  1  \n",
      "0  label2/8861-zero-riscy-a-3-c5-u0.75-m2-p7-f1.npy  \n",
      "1  label2/8896-zero-riscy-a-3-c5-u0.85-m1-p2-f1.npy  \n",
      "2   label2/7354-zero-riscy-a-1-c2-u0.9-m3-p2-f1.npy  \n",
      "3   label2/7947-zero-riscy-a-2-c2-u0.8-m2-p1-f0.npy  \n",
      "4   label2/7297-zero-riscy-a-1-c2-u0.8-m2-p1-f1.npy  \n"
     ]
    }
   ],
   "source": [
    "tdf[1] = tdf[1].apply(replace_substrings)\n",
    "print(tdf.head())"
   ]
  },
  {
   "cell_type": "code",
   "execution_count": 32,
   "id": "34aa4099",
   "metadata": {},
   "outputs": [],
   "source": [
    "# Write the filtered data to a new file (data_filtered.cdv)\n",
    "tdf.to_csv(\"new_N28.csv\", sep=\",\", header=None, index=False)"
   ]
  },
  {
   "cell_type": "code",
   "execution_count": null,
   "id": "58a0473d",
   "metadata": {},
   "outputs": [],
   "source": []
  }
 ],
 "metadata": {
  "kernelspec": {
   "display_name": "Python 3 (ipykernel)",
   "language": "python",
   "name": "python3"
  },
  "language_info": {
   "codemirror_mode": {
    "name": "ipython",
    "version": 3
   },
   "file_extension": ".py",
   "mimetype": "text/x-python",
   "name": "python",
   "nbconvert_exporter": "python",
   "pygments_lexer": "ipython3",
   "version": "3.9.12"
  }
 },
 "nbformat": 4,
 "nbformat_minor": 5
}
