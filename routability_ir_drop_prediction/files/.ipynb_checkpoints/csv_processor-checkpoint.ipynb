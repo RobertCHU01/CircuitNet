{
 "cells": [
  {
   "cell_type": "code",
   "execution_count": 3,
   "id": "8878cf61",
   "metadata": {},
   "outputs": [
    {
     "name": "stdout",
     "output_type": "stream",
     "text": [
      "                                                  0  \\\n",
      "0       feature/2187-RISCY-b-1-c2-u0.8-m1-p8-f1.npy   \n",
      "1  feature/5107-RISCY-FPU-a-2-c20-u0.7-m1-p2-f1.npy   \n",
      "2      feature/1523-RISCY-a-3-c2-u0.75-m2-p5-f1.npy   \n",
      "3  feature/6155-RISCY-FPU-b-1-c5-u0.85-m3-p5-f1.npy   \n",
      "4      feature/3316-RISCY-b-2-c20-u0.8-m3-p5-f1.npy   \n",
      "\n",
      "                                                1  \n",
      "0       label/2187-RISCY-b-1-c2-u0.8-m1-p8-f1.npy  \n",
      "1  label/5107-RISCY-FPU-a-2-c20-u0.7-m1-p2-f1.npy  \n",
      "2      label/1523-RISCY-a-3-c2-u0.75-m2-p5-f1.npy  \n",
      "3  label/6155-RISCY-FPU-b-1-c5-u0.85-m3-p5-f1.npy  \n",
      "4      label/3316-RISCY-b-2-c20-u0.8-m3-p5-f1.npy  \n"
     ]
    }
   ],
   "source": [
    "import pandas as pd\n",
    "\n",
    "# Assuming your cdv file is named \"data.cdv\"\n",
    "df = pd.read_csv(\"train_N28.csv\", sep=\",\", header=None)\n",
    "print(df.head())"
   ]
  },
  {
   "cell_type": "code",
   "execution_count": 11,
   "id": "61fbd94d",
   "metadata": {},
   "outputs": [],
   "source": [
    "# Extract the number before the \"-\" symbol\n",
    "df[\"number\"] = df[0].str.split(\"/\").str[1]\n",
    "df[\"number\"] = df[\"number\"].str.split(\"-\").str[0]\n",
    "\n",
    "# Convert the number column to integer\n",
    "df[\"number\"] = pd.to_numeric(df[\"number\"])\n",
    "\n",
    "# Filter the dataframe to keep rows with number <= 2000\n",
    "filtered_df = df[df[\"number\"] <= 1000].drop(\"number\", axis=1)  # Remove number column"
   ]
  },
  {
   "cell_type": "code",
   "execution_count": 12,
   "id": "4ada0864",
   "metadata": {},
   "outputs": [
    {
     "name": "stdout",
     "output_type": "stream",
     "text": [
      "                                              0  \\\n",
      "10   feature/393-RISCY-a-1-c5-u0.7-m3-p2-f1.npy   \n",
      "22  feature/503-RISCY-a-1-c20-u0.7-m2-p3-f0.npy   \n",
      "28   feature/143-RISCY-a-1-c2-u0.7-m2-p8-f1.npy   \n",
      "31   feature/954-RISCY-a-2-c2-u0.9-m3-p4-f1.npy   \n",
      "41   feature/244-RISCY-a-1-c2-u0.9-m3-p5-f1.npy   \n",
      "\n",
      "                                            1  \n",
      "10   label/393-RISCY-a-1-c5-u0.7-m3-p2-f1.npy  \n",
      "22  label/503-RISCY-a-1-c20-u0.7-m2-p3-f0.npy  \n",
      "28   label/143-RISCY-a-1-c2-u0.7-m2-p8-f1.npy  \n",
      "31   label/954-RISCY-a-2-c2-u0.9-m3-p4-f1.npy  \n",
      "41   label/244-RISCY-a-1-c2-u0.9-m3-p5-f1.npy  \n"
     ]
    }
   ],
   "source": [
    "print(filtered_df.head())"
   ]
  },
  {
   "cell_type": "code",
   "execution_count": 13,
   "id": "74a59616",
   "metadata": {},
   "outputs": [],
   "source": [
    "# Write the filtered data to a new file (data_filtered.cdv)\n",
    "filtered_df.to_csv(\"new_N28.csv\", sep=\",\", header=None, index=False)\n"
   ]
  },
  {
   "cell_type": "code",
   "execution_count": 25,
   "id": "a8dc6dda",
   "metadata": {},
   "outputs": [
    {
     "name": "stdout",
     "output_type": "stream",
     "text": [
      "                                                   0  \\\n",
      "0  feature/8861-zero-riscy-a-3-c5-u0.75-m2-p7-f1.npy   \n",
      "1  feature/8896-zero-riscy-a-3-c5-u0.85-m1-p2-f1.npy   \n",
      "2   feature/7354-zero-riscy-a-1-c2-u0.9-m3-p2-f1.npy   \n",
      "3   feature/7947-zero-riscy-a-2-c2-u0.8-m2-p1-f0.npy   \n",
      "4   feature/7297-zero-riscy-a-1-c2-u0.8-m2-p1-f1.npy   \n",
      "\n",
      "                                                 1  \n",
      "0  label/8861-zero-riscy-a-3-c5-u0.75-m2-p7-f1.npy  \n",
      "1  label/8896-zero-riscy-a-3-c5-u0.85-m1-p2-f1.npy  \n",
      "2   label/7354-zero-riscy-a-1-c2-u0.9-m3-p2-f1.npy  \n",
      "3   label/7947-zero-riscy-a-2-c2-u0.8-m2-p1-f0.npy  \n",
      "4   label/7297-zero-riscy-a-1-c2-u0.8-m2-p1-f1.npy  \n"
     ]
    }
   ],
   "source": [
    "# Define the replacement function\n",
    "def replace_substrings(text):\n",
    "  return text.replace('feature/', 'feature2/').replace('label/', 'label2/')\n",
    "\n",
    "\n",
    "# Processing test_N28.csv\n",
    "tdf = pd.read_csv(\"test_N28.csv\", sep=\",\", header=None)\n",
    "print(tdf.head())"
   ]
  },
  {
   "cell_type": "code",
   "execution_count": 20,
   "id": "7a92a53a",
   "metadata": {},
   "outputs": [],
   "source": [
    "# # Extract the number before the \"-\" symbol\n",
    "# tdf[\"number\"] = tdf[0].str.split(\"/\").str[1]\n",
    "# tdf[\"number\"] = tdf[\"number\"].str.split(\"-\").str[0]\n",
    "\n",
    "# # Convert the number column to integer\n",
    "# tdf[\"number\"] = pd.to_numeric(tdf[\"number\"])\n",
    "\n",
    "# # Filter the dataframe to keep rows with number <= 2000\n",
    "# # filtered_df = tdf[tdf[\"number\"] <= 3000].drop(\"number\", axis=1)  # Remove number column\n",
    "# filtered_tdf = tdf[tdf[\"number\"] <= 3000]  # Remove number column"
   ]
  },
  {
   "cell_type": "code",
   "execution_count": 27,
   "id": "c595c0d2",
   "metadata": {},
   "outputs": [],
   "source": [
    "\n",
    "# Apply the replacement function to the first column (assuming your data is in the first column)\n",
    "tdf = tdf.apply(replace_substrings)"
   ]
  },
  {
   "cell_type": "code",
   "execution_count": 28,
   "id": "6c109655",
   "metadata": {},
   "outputs": [
    {
     "name": "stdout",
     "output_type": "stream",
     "text": [
      "Empty DataFrame\n",
      "Columns: [0, 1, number]\n",
      "Index: []\n",
      "                                                   0  \\\n",
      "0  feature2/8861-zero-riscy-a-3-c5-u0.75-m2-p7-f1...   \n",
      "1  feature2/8896-zero-riscy-a-3-c5-u0.85-m1-p2-f1...   \n",
      "2  feature2/7354-zero-riscy-a-1-c2-u0.9-m3-p2-f1.npy   \n",
      "3  feature2/7947-zero-riscy-a-2-c2-u0.8-m2-p1-f0.npy   \n",
      "4  feature2/7297-zero-riscy-a-1-c2-u0.8-m2-p1-f1.npy   \n",
      "\n",
      "                                                 1  \n",
      "0  label/8861-zero-riscy-a-3-c5-u0.75-m2-p7-f1.npy  \n",
      "1  label/8896-zero-riscy-a-3-c5-u0.85-m1-p2-f1.npy  \n",
      "2   label/7354-zero-riscy-a-1-c2-u0.9-m3-p2-f1.npy  \n",
      "3   label/7947-zero-riscy-a-2-c2-u0.8-m2-p1-f0.npy  \n",
      "4   label/7297-zero-riscy-a-1-c2-u0.8-m2-p1-f1.npy  \n"
     ]
    },
    {
     "ename": "KeyError",
     "evalue": "'number'",
     "output_type": "error",
     "traceback": [
      "\u001b[0;31m---------------------------------------------------------------------------\u001b[0m",
      "\u001b[0;31mKeyError\u001b[0m                                  Traceback (most recent call last)",
      "File \u001b[0;32m~/opt/miniconda3/lib/python3.9/site-packages/pandas/core/indexes/base.py:3802\u001b[0m, in \u001b[0;36mIndex.get_loc\u001b[0;34m(self, key, method, tolerance)\u001b[0m\n\u001b[1;32m   3801\u001b[0m \u001b[38;5;28;01mtry\u001b[39;00m:\n\u001b[0;32m-> 3802\u001b[0m     \u001b[38;5;28;01mreturn\u001b[39;00m \u001b[38;5;28;43mself\u001b[39;49m\u001b[38;5;241;43m.\u001b[39;49m\u001b[43m_engine\u001b[49m\u001b[38;5;241;43m.\u001b[39;49m\u001b[43mget_loc\u001b[49m\u001b[43m(\u001b[49m\u001b[43mcasted_key\u001b[49m\u001b[43m)\u001b[49m\n\u001b[1;32m   3803\u001b[0m \u001b[38;5;28;01mexcept\u001b[39;00m \u001b[38;5;167;01mKeyError\u001b[39;00m \u001b[38;5;28;01mas\u001b[39;00m err:\n",
      "File \u001b[0;32m~/opt/miniconda3/lib/python3.9/site-packages/pandas/_libs/index.pyx:138\u001b[0m, in \u001b[0;36mpandas._libs.index.IndexEngine.get_loc\u001b[0;34m()\u001b[0m\n",
      "File \u001b[0;32m~/opt/miniconda3/lib/python3.9/site-packages/pandas/_libs/index.pyx:146\u001b[0m, in \u001b[0;36mpandas._libs.index.IndexEngine.get_loc\u001b[0;34m()\u001b[0m\n",
      "File \u001b[0;32mpandas/_libs/index_class_helper.pxi:49\u001b[0m, in \u001b[0;36mpandas._libs.index.Int64Engine._check_type\u001b[0;34m()\u001b[0m\n",
      "\u001b[0;31mKeyError\u001b[0m: 'number'",
      "\nThe above exception was the direct cause of the following exception:\n",
      "\u001b[0;31mKeyError\u001b[0m                                  Traceback (most recent call last)",
      "Cell \u001b[0;32mIn[28], line 3\u001b[0m\n\u001b[1;32m      1\u001b[0m \u001b[38;5;28mprint\u001b[39m(filtered_tdf\u001b[38;5;241m.\u001b[39mhead())\n\u001b[1;32m      2\u001b[0m \u001b[38;5;28mprint\u001b[39m(tdf\u001b[38;5;241m.\u001b[39mhead())\n\u001b[0;32m----> 3\u001b[0m \u001b[38;5;28mprint\u001b[39m(\u001b[43mtdf\u001b[49m\u001b[43m[\u001b[49m\u001b[38;5;124;43m\"\u001b[39;49m\u001b[38;5;124;43mnumber\u001b[39;49m\u001b[38;5;124;43m\"\u001b[39;49m\u001b[43m]\u001b[49m\u001b[38;5;241m.\u001b[39mhead())\n",
      "File \u001b[0;32m~/opt/miniconda3/lib/python3.9/site-packages/pandas/core/frame.py:3807\u001b[0m, in \u001b[0;36mDataFrame.__getitem__\u001b[0;34m(self, key)\u001b[0m\n\u001b[1;32m   3805\u001b[0m \u001b[38;5;28;01mif\u001b[39;00m \u001b[38;5;28mself\u001b[39m\u001b[38;5;241m.\u001b[39mcolumns\u001b[38;5;241m.\u001b[39mnlevels \u001b[38;5;241m>\u001b[39m \u001b[38;5;241m1\u001b[39m:\n\u001b[1;32m   3806\u001b[0m     \u001b[38;5;28;01mreturn\u001b[39;00m \u001b[38;5;28mself\u001b[39m\u001b[38;5;241m.\u001b[39m_getitem_multilevel(key)\n\u001b[0;32m-> 3807\u001b[0m indexer \u001b[38;5;241m=\u001b[39m \u001b[38;5;28;43mself\u001b[39;49m\u001b[38;5;241;43m.\u001b[39;49m\u001b[43mcolumns\u001b[49m\u001b[38;5;241;43m.\u001b[39;49m\u001b[43mget_loc\u001b[49m\u001b[43m(\u001b[49m\u001b[43mkey\u001b[49m\u001b[43m)\u001b[49m\n\u001b[1;32m   3808\u001b[0m \u001b[38;5;28;01mif\u001b[39;00m is_integer(indexer):\n\u001b[1;32m   3809\u001b[0m     indexer \u001b[38;5;241m=\u001b[39m [indexer]\n",
      "File \u001b[0;32m~/opt/miniconda3/lib/python3.9/site-packages/pandas/core/indexes/base.py:3804\u001b[0m, in \u001b[0;36mIndex.get_loc\u001b[0;34m(self, key, method, tolerance)\u001b[0m\n\u001b[1;32m   3802\u001b[0m     \u001b[38;5;28;01mreturn\u001b[39;00m \u001b[38;5;28mself\u001b[39m\u001b[38;5;241m.\u001b[39m_engine\u001b[38;5;241m.\u001b[39mget_loc(casted_key)\n\u001b[1;32m   3803\u001b[0m \u001b[38;5;28;01mexcept\u001b[39;00m \u001b[38;5;167;01mKeyError\u001b[39;00m \u001b[38;5;28;01mas\u001b[39;00m err:\n\u001b[0;32m-> 3804\u001b[0m     \u001b[38;5;28;01mraise\u001b[39;00m \u001b[38;5;167;01mKeyError\u001b[39;00m(key) \u001b[38;5;28;01mfrom\u001b[39;00m \u001b[38;5;21;01merr\u001b[39;00m\n\u001b[1;32m   3805\u001b[0m \u001b[38;5;28;01mexcept\u001b[39;00m \u001b[38;5;167;01mTypeError\u001b[39;00m:\n\u001b[1;32m   3806\u001b[0m     \u001b[38;5;66;03m# If we have a listlike key, _check_indexing_error will raise\u001b[39;00m\n\u001b[1;32m   3807\u001b[0m     \u001b[38;5;66;03m#  InvalidIndexError. Otherwise we fall through and re-raise\u001b[39;00m\n\u001b[1;32m   3808\u001b[0m     \u001b[38;5;66;03m#  the TypeError.\u001b[39;00m\n\u001b[1;32m   3809\u001b[0m     \u001b[38;5;28mself\u001b[39m\u001b[38;5;241m.\u001b[39m_check_indexing_error(key)\n",
      "\u001b[0;31mKeyError\u001b[0m: 'number'"
     ]
    }
   ],
   "source": [
    "print(filtered_tdf.head())\n",
    "print(tdf.head())\n",
    "# print(tdf[\"number\"].head())"
   ]
  },
  {
   "cell_type": "code",
   "execution_count": null,
   "id": "429848e1",
   "metadata": {},
   "outputs": [],
   "source": [
    "# Define the replacement function\n",
    "def replace_substrings(text):\n",
    "  return text.replace('feature/', 'feature2/').replace('label/', 'label2/')\n",
    "\n",
    "# Read the CSV file into a DataFrame\n",
    "df = pd.read_csv(\"your_file.csv\", header=None)\n",
    "\n",
    "# Apply the replacement function to the first column (assuming your data is in the first column)\n",
    "df[0] = df[0].apply(replace_substrings)\n",
    "\n",
    "# Save the modified DataFrame to a new CSV file (optional)\n",
    "df.to_csv(\"modified_file.csv\", header=None, index=False)\n",
    "\n",
    "# Alternatively, print the modified DataFrame\n",
    "print(df)"
   ]
  }
 ],
 "metadata": {
  "kernelspec": {
   "display_name": "Python 3 (ipykernel)",
   "language": "python",
   "name": "python3"
  },
  "language_info": {
   "codemirror_mode": {
    "name": "ipython",
    "version": 3
   },
   "file_extension": ".py",
   "mimetype": "text/x-python",
   "name": "python",
   "nbconvert_exporter": "python",
   "pygments_lexer": "ipython3",
   "version": "3.9.12"
  }
 },
 "nbformat": 4,
 "nbformat_minor": 5
}
