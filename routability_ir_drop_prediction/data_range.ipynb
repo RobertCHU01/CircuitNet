{
 "cells": [
  {
   "cell_type": "code",
   "execution_count": 1,
   "metadata": {},
   "outputs": [
    {
     "name": "stdout",
     "output_type": "stream",
     "text": [
      "\n",
      "Analyzing power_i...\n"
     ]
    },
    {
     "name": "stderr",
     "output_type": "stream",
     "text": [
      "100%|██████████| 10242/10242 [00:06<00:00, 1560.30it/s]\n"
     ]
    },
    {
     "name": "stdout",
     "output_type": "stream",
     "text": [
      "power_i:\n",
      "Min value: 0.0\n",
      "Max value: 0.0577918783716143\n",
      "Value range: [0.0, 0.0577918783716143]\n",
      "\n",
      "Analyzing power_s...\n"
     ]
    },
    {
     "name": "stderr",
     "output_type": "stream",
     "text": [
      "100%|██████████| 10242/10242 [00:06<00:00, 1569.80it/s]\n"
     ]
    },
    {
     "name": "stdout",
     "output_type": "stream",
     "text": [
      "power_s:\n",
      "Min value: 0.0\n",
      "Max value: 0.6031125880346175\n",
      "Value range: [0.0, 0.6031125880346175]\n",
      "\n",
      "Analyzing power_sca...\n"
     ]
    },
    {
     "name": "stderr",
     "output_type": "stream",
     "text": [
      "100%|██████████| 10242/10242 [00:06<00:00, 1560.50it/s]\n"
     ]
    },
    {
     "name": "stdout",
     "output_type": "stream",
     "text": [
      "power_sca:\n",
      "Min value: 0.0\n",
      "Max value: 0.6119281156540864\n",
      "Value range: [0.0, 0.6119281156540864]\n",
      "\n",
      "Analyzing Power_all...\n"
     ]
    },
    {
     "name": "stderr",
     "output_type": "stream",
     "text": [
      "100%|██████████| 10242/10242 [00:06<00:00, 1602.18it/s]\n"
     ]
    },
    {
     "name": "stdout",
     "output_type": "stream",
     "text": [
      "Power_all:\n",
      "Min value: 0.0\n",
      "Max value: 0.6241241549402297\n",
      "Value range: [0.0, 0.6241241549402297]\n",
      "\n",
      "Analyzing IR_drop...\n"
     ]
    },
    {
     "name": "stderr",
     "output_type": "stream",
     "text": [
      "100%|██████████| 10242/10242 [00:06<00:00, 1543.53it/s]"
     ]
    },
    {
     "name": "stdout",
     "output_type": "stream",
     "text": [
      "IR_drop:\n",
      "Min value: 0.0\n",
      "Max value: 487.636\n",
      "Value range: [0.0, 487.636]\n"
     ]
    },
    {
     "name": "stderr",
     "output_type": "stream",
     "text": [
      "\n"
     ]
    }
   ],
   "source": [
    "import os\n",
    "import numpy as np\n",
    "from tqdm import tqdm\n",
    "\n",
    "# Set paths\n",
    "root_dir = './CircuitNet-N28/IR_drop_features_decompressed'\n",
    "feature_dirs = ['power_i', 'power_s', 'power_sca', 'Power_all', 'IR_drop']\n",
    "\n",
    "# Process files\n",
    "for feature_dir in feature_dirs:\n",
    "    min_val = float('inf')\n",
    "    max_val = float('-inf')\n",
    "    \n",
    "    print(f\"\\nAnalyzing {feature_dir}...\")\n",
    "    feature_path = os.path.join(root_dir, feature_dir)\n",
    "    files = os.listdir(feature_path)\n",
    "    \n",
    "    for file in tqdm(files):\n",
    "        data = np.load(os.path.join(feature_path, file))\n",
    "        curr_min = np.min(data)\n",
    "        curr_max = np.max(data)\n",
    "        min_val = min(min_val, curr_min)\n",
    "        max_val = max(max_val, curr_max)\n",
    "    \n",
    "    print(f\"{feature_dir}:\")\n",
    "    print(f\"Min value: {min_val}\")\n",
    "    print(f\"Max value: {max_val}\")\n",
    "    print(f\"Value range: [{min_val}, {max_val}]\")"
   ]
  }
 ],
 "metadata": {
  "kernelspec": {
   "display_name": "base",
   "language": "python",
   "name": "python3"
  },
  "language_info": {
   "codemirror_mode": {
    "name": "ipython",
    "version": 3
   },
   "file_extension": ".py",
   "mimetype": "text/x-python",
   "name": "python",
   "nbconvert_exporter": "python",
   "pygments_lexer": "ipython3",
   "version": "3.9.12"
  }
 },
 "nbformat": 4,
 "nbformat_minor": 2
}
