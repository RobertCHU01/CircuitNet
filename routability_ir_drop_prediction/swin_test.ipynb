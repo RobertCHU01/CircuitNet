{
 "cells": [
  {
   "cell_type": "code",
   "execution_count": 8,
   "metadata": {},
   "outputs": [],
   "source": [
    "import numpy as np\n",
    "import torch\n",
    "import torch.nn as nn\n",
    "import torch.utils.checkpoint as checkpoint\n",
    "from PIL import Image \n",
    "import torchvision.transforms as transforms \n",
    "import matplotlib.pyplot as plt\n",
    "import seaborn as sns\n",
    "import os\n",
    "from torch.utils.data import Dataset, DataLoader\n",
    "import torch.nn.functional as F"
   ]
  },
  {
   "cell_type": "markdown",
   "metadata": {},
   "source": [
    "Prepare data"
   ]
  },
  {
   "cell_type": "code",
   "execution_count": 9,
   "metadata": {},
   "outputs": [],
   "source": [
    "\n",
    "def get_sub_path(path):\n",
    "    sub_path = []\n",
    "    if isinstance(path, list):\n",
    "        for p in path:\n",
    "            if os.path.isdir(p):\n",
    "                for file in os.listdir(p):\n",
    "                    sub_path.append(os.path.join(p, file))\n",
    "            else:\n",
    "                continue\n",
    "    else:\n",
    "        for file in os.listdir(path):\n",
    "            sub_path.append(os.path.join(path, file))\n",
    "    return sub_path\n",
    "\n",
    "def divide_list(list, n):\n",
    "    for i in range(0, len(list), n):\n",
    "        yield list[i:i + n]\n",
    "        \n",
    "def std(input):\n",
    "    if input.max() == 0:\n",
    "        return input\n",
    "    else:\n",
    "        result = (input-input.min()) / (input.max()-input.min())\n",
    "        return result"
   ]
  },
  {
   "cell_type": "code",
   "execution_count": 10,
   "metadata": {},
   "outputs": [],
   "source": [
    "feature_list = ['IR_drop_features_decompressed/power_i', 'IR_drop_features_decompressed/power_s', \n",
    "        'IR_drop_features_decompressed/power_sca', 'IR_drop_features_decompressed/power_all']\n",
    "label_list = ['IR_drop_features_decompressed/IR_drop']\n",
    "\n",
    "datapath = './CircuitNet-N28/'\n",
    "# datapath = '../../CircuitNet/CircuitNet-N28/'\n",
    "name_list = get_sub_path(os.path.join(datapath, feature_list[-1]))\n",
    "n_list = divide_list(name_list, 1000)"
   ]
  },
  {
   "cell_type": "code",
   "execution_count": 11,
   "metadata": {},
   "outputs": [],
   "source": [
    "class PowerDataset(Dataset):\n",
    "    def __init__(self, root_dir, target_size=(224, 224)):\n",
    "        self.root_dir = root_dir\n",
    "        self.feature_dirs = ['power_i', 'power_s', 'power_sca', 'Power_all']\n",
    "        self.label_dir = 'IR_drop'\n",
    "        self.target_size = target_size\n",
    "        # Collect all the feature and label file paths\n",
    "        self.data = []\n",
    "        i=0\n",
    "        for case_name in os.listdir(os.path.join(root_dir, self.feature_dirs[0])):\n",
    "            feature_paths = [os.path.join(root_dir, feature_dir, case_name) for feature_dir in self.feature_dirs]\n",
    "            label_path = os.path.join(root_dir, self.label_dir, case_name)\n",
    "            if all(os.path.exists(fp) for fp in feature_paths) and os.path.exists(label_path):\n",
    "                self.data.append((feature_paths, label_path))\n",
    "            i+=1\n",
    "            # we intentionally limit the size of our dataset to 100\n",
    "            if i>99:\n",
    "                break\n",
    "\n",
    "    def __len__(self):\n",
    "        return len(self.data)\n",
    "    \n",
    "    def __getitem__(self, idx):\n",
    "        feature_paths, label_path = self.data[idx]\n",
    "        features = []\n",
    "        \n",
    "        for fp in feature_paths:\n",
    "            feature = np.load(fp)\n",
    "            feature = torch.tensor(feature, dtype=torch.float32)\n",
    "            feature = F.interpolate(feature.unsqueeze(0).unsqueeze(0), size=self.target_size, mode='nearest').squeeze(0).squeeze(0)\n",
    "            feature = std(feature)\n",
    "            features.append(feature)\n",
    "            \n",
    "        features = torch.stack(features, dim=0)\n",
    "        \n",
    "        # Load and process label file\n",
    "        label = np.load(label_path)\n",
    "        label = torch.tensor(label, dtype=torch.float32)\n",
    "        label = F.interpolate(label.unsqueeze(0).unsqueeze(0), size=self.target_size, mode='nearest').squeeze(0).squeeze(0)\n",
    "        label = label.clamp(1e-6, 50)\n",
    "        label = (torch.log10(label)+6)/ (np.log10(50)+6)\n",
    "        \n",
    "        return features, label\n",
    "    \n",
    "root_dir = './CircuitNet-N28/IR_drop_features_decompressed/'\n",
    "dataset = PowerDataset(root_dir)"
   ]
  },
  {
   "cell_type": "markdown",
   "metadata": {},
   "source": [
    "Size of datapoint"
   ]
  },
  {
   "cell_type": "code",
   "execution_count": 19,
   "metadata": {},
   "outputs": [
    {
     "name": "stdout",
     "output_type": "stream",
     "text": [
      "74.23% of data points fall into 220*220 ~ 280*280\n",
      "87.07% of data points fall into 220*220 ~ 290*290\n",
      "95.66% of data points fall into 200*200 ~ 300*300\n",
      "10242\n"
     ]
    }
   ],
   "source": [
    "feature_dirs = ['power_i', 'power_s', 'power_sca', 'Power_all']\n",
    "label_dir = 'IR_drop'\n",
    "c=0\n",
    "r1 = 0 # number of datapoints in [220, 280]\n",
    "r2 = 0 # number of datapoints in [200, 300]\n",
    "r3 = 0 # number of datapoints in [200, 260]\n",
    "for case_name in os.listdir(os.path.join(root_dir, feature_dirs[0])):\n",
    "    feature_paths = [os.path.join(root_dir, feature_dir, case_name) for feature_dir in feature_dirs]\n",
    "    label_path = os.path.join(root_dir, label_dir, case_name)\n",
    "    c+=1\n",
    "    # print(feature_paths)\n",
    "    # in one data point, all power_? has same shape\n",
    "    x = np.load(feature_paths[0])\n",
    "    x = torch.tensor(x)\n",
    "    if x.shape[0] >= 220 and x.shape[0] <= 280 and x.shape[1] >= 220 and x.shape[1] <= 280:\n",
    "        r1+=1\n",
    "    if x.shape[0] >= 200 and x.shape[0] <= 300 and x.shape[1] >= 200 and x.shape[1] <= 300:\n",
    "        r2+=1\n",
    "    if x.shape[0] >= 220 and x.shape[0] <= 290 and x.shape[1] >= 220 and x.shape[1] <= 290:\n",
    "        r3+=1\n",
    "    # print(x.shape)\n",
    "    # for i in range (len(feature_paths)):\n",
    "    #     x = np.load(feature_paths[i])\n",
    "    #     x = torch.tensor(x)\n",
    "    #     print(x.shape)\n",
    "print(\"{:.2f}% of data points fall into 220*220 ~ 280*280\".format(r1/c * 100) )\n",
    "print(\"{:.2f}% of data points fall into 220*220 ~ 290*290\".format(r3/c * 100) )\n",
    "print(\"{:.2f}% of data points fall into 200*200 ~ 300*300\".format(r2/c * 100) )\n",
    "print(c)"
   ]
  },
  {
   "cell_type": "markdown",
   "metadata": {},
   "source": [
    "Value range of datapoint"
   ]
  },
  {
   "cell_type": "code",
   "execution_count": 20,
   "metadata": {},
   "outputs": [],
   "source": [
    "def countlarger(tensor):\n",
    "    return torch.sum(tensor > 1).item()\n",
    "def countbetween(tensor):\n",
    "    return torch.sum((tensor > 0) & (tensor < 1)).item()\n",
    "def count_ones(tensor):\n",
    "    return torch.sum(tensor == 1).item()\n",
    "def count_zeros(tensor):\n",
    "    return torch.sum(tensor == 0).item()\n",
    "\n",
    "def print_non_zeros(tensor):\n",
    "    non_zeros = tensor[tensor != 0]\n",
    "    print(\"Non-zero elements in the tensor:\")\n",
    "    print(non_zeros)"
   ]
  },
  {
   "cell_type": "markdown",
   "metadata": {},
   "source": [
    "其实只有10242个file。标签最大是10370，中间有些丢失了。\n",
    "\n",
    "\n",
    "                  value = 0, 0 < value < 1, value = 1, value > 1\n",
    "\n",
    "\n",
    "power_i:          502616514 222652424 0 0\n",
    "\n",
    "\n",
    "power_s:          502754241 222514697 0 0\n",
    "\n",
    "\n",
    "power_sca:        485297920 239971018 0 0\n",
    "\n",
    "\n",
    "power_all:        485297920 239971018 0 0"
   ]
  },
  {
   "cell_type": "code",
   "execution_count": 21,
   "metadata": {},
   "outputs": [
    {
     "name": "stdout",
     "output_type": "stream",
     "text": [
      "502754241 222514697 0 0\n",
      "10242\n"
     ]
    }
   ],
   "source": [
    "feature_dirs = ['power_i', 'power_s', 'power_sca', 'Power_all']\n",
    "label_dir = 'IR_drop'\n",
    "c=0\n",
    "r1 = 0 # value = 0\n",
    "r2 = 0 # 0 < value < 1\n",
    "r3 = 0 # value = 1\n",
    "r4 = 0 # value > 1\n",
    "for case_name in os.listdir(os.path.join(root_dir, feature_dirs[0])):\n",
    "    # if case_name.startswith('1'):\n",
    "    #     print(case_name)\n",
    "    feature_paths = [os.path.join(root_dir, feature_dir, case_name) for feature_dir in feature_dirs]\n",
    "    label_path = os.path.join(root_dir, label_dir, case_name)\n",
    "    c+=1\n",
    "    # print(feature_paths)\n",
    "    # =================================================================================================\n",
    "    # in one data point, all power_? has same shape\n",
    "    x = np.load(feature_paths[1])\n",
    "    x = torch.tensor(x)\n",
    "    # print(x.shape)\n",
    "    x1 = count_zeros(x)\n",
    "    x2 = countbetween(x)\n",
    "    x3 = count_ones(x)\n",
    "    x4 = countlarger(x)\n",
    "    r1 += x1\n",
    "    r2 += x2\n",
    "    r3 += x3\n",
    "    r4 += x4\n",
    "    # print(f\"> 0: {x1}, 0 < x < 1: {x2}, > 1: {x3}\")\n",
    "    # if (c == 10): break\n",
    "    # for i in range (len(feature_paths)):\n",
    "    #     x = np.load(feature_paths[i])\n",
    "    #     x = torch.tensor(x)\n",
    "    #     print(x.shape)\n",
    "\n",
    "print(r1, r2, r3, r4)\n",
    "print(c)"
   ]
  },
  {
   "cell_type": "code",
   "execution_count": 12,
   "metadata": {},
   "outputs": [
    {
     "name": "stdout",
     "output_type": "stream",
     "text": [
      "25\n",
      "100\n",
      "torch.Size([4, 4, 224, 224]) torch.Size([4, 224, 224])\n",
      "torch.Size([4, 4, 224, 224]) torch.Size([4, 224, 224])\n",
      "torch.Size([4, 4, 224, 224]) torch.Size([4, 224, 224])\n",
      "torch.Size([4, 4, 224, 224]) torch.Size([4, 224, 224])\n",
      "torch.Size([4, 4, 224, 224]) torch.Size([4, 224, 224])\n",
      "torch.Size([4, 4, 224, 224]) torch.Size([4, 224, 224])\n",
      "torch.Size([4, 4, 224, 224]) torch.Size([4, 224, 224])\n",
      "torch.Size([4, 4, 224, 224]) torch.Size([4, 224, 224])\n",
      "torch.Size([4, 4, 224, 224]) torch.Size([4, 224, 224])\n",
      "torch.Size([4, 4, 224, 224]) torch.Size([4, 224, 224])\n",
      "torch.Size([4, 4, 224, 224]) torch.Size([4, 224, 224])\n"
     ]
    }
   ],
   "source": [
    "dataloader = DataLoader(dataset, batch_size=4, shuffle=True)\n",
    "# number of datapoints / batch_size = len(dataloader)\n",
    "print(len(dataloader))        # 25\n",
    "print(len(dataset))           # 100\n",
    "\n",
    "c=0\n",
    "for features, labels in dataloader:\n",
    "    print(features.shape, labels.shape)\n",
    "    if (c == 10): break\n",
    "    c+=1"
   ]
  },
  {
   "cell_type": "code",
   "execution_count": 23,
   "metadata": {},
   "outputs": [],
   "source": [
    "from swintransformer import *\n",
    "\n",
    "model_name = 'swin_base_patch4_window7_224'\n",
    "model = init_model(model_name, input_channels=4, num_classes=0, pretrained=True)"
   ]
  },
  {
   "cell_type": "code",
   "execution_count": 24,
   "metadata": {},
   "outputs": [],
   "source": [
    "\n",
    "model.eval()\n",
    "with torch.no_grad():\n",
    "    ir_prediction = model(features)"
   ]
  },
  {
   "cell_type": "code",
   "execution_count": 25,
   "metadata": {},
   "outputs": [
    {
     "data": {
      "text/plain": [
       "torch.Size([4, 1, 224, 224])"
      ]
     },
     "execution_count": 25,
     "metadata": {},
     "output_type": "execute_result"
    }
   ],
   "source": [
    "ir_prediction.shape"
   ]
  },
  {
   "cell_type": "code",
   "execution_count": 26,
   "metadata": {},
   "outputs": [
    {
     "name": "stderr",
     "output_type": "stream",
     "text": [
      "  0%|          | 0/100 [00:00<?, ?it/s]/Users/ziyichu/Desktop/Research/CircuitNet/routability_ir_drop_prediction/utils/losses.py:64: UserWarning: Using a target size (torch.Size([4, 224, 224])) that is different to the input size (torch.Size([4, 1, 224, 224])). This will likely lead to incorrect results due to broadcasting. Please ensure they have the same size.\n",
      "  return F.l1_loss(pred, target, reduction='none')\n",
      " 25%|██▌       | 25/100 [00:32<01:35,  1.28s/it]/Users/ziyichu/Desktop/Research/CircuitNet/routability_ir_drop_prediction/utils/losses.py:64: UserWarning: Using a target size (torch.Size([1, 224, 224])) that is different to the input size (torch.Size([1, 1, 224, 224])). This will likely lead to incorrect results due to broadcasting. Please ensure they have the same size.\n",
      "  return F.l1_loss(pred, target, reduction='none')\n",
      " 26%|██▌       | 26/100 [00:32<01:33,  1.26s/it]\n"
     ]
    },
    {
     "name": "stdout",
     "output_type": "stream",
     "text": [
      "===> Iters[26](26/5000): Loss: 5.2908\n"
     ]
    },
    {
     "name": "stderr",
     "output_type": "stream",
     "text": [
      " 26%|██▌       | 26/100 [00:32<01:31,  1.24s/it]\n"
     ]
    },
    {
     "name": "stdout",
     "output_type": "stream",
     "text": [
      "===> Iters[52](52/5000): Loss: 5.2943\n"
     ]
    },
    {
     "name": "stderr",
     "output_type": "stream",
     "text": [
      " 26%|██▌       | 26/100 [00:32<01:31,  1.24s/it]\n"
     ]
    },
    {
     "name": "stdout",
     "output_type": "stream",
     "text": [
      "===> Iters[78](78/5000): Loss: 5.2943\n"
     ]
    },
    {
     "name": "stderr",
     "output_type": "stream",
     "text": [
      " 22%|██▏       | 22/100 [00:27<01:38,  1.26s/it]\n"
     ]
    },
    {
     "name": "stdout",
     "output_type": "stream",
     "text": [
      "===> Iters[100](100/5000): Loss: 4.3980\n",
      "Checkpoint saved to ./work_dir/irdrop_mavi//swinTransformer_iters_100.pth\n"
     ]
    },
    {
     "name": "stderr",
     "output_type": "stream",
     "text": [
      " 26%|██▌       | 26/100 [00:32<01:33,  1.27s/it]\n"
     ]
    },
    {
     "name": "stdout",
     "output_type": "stream",
     "text": [
      "===> Iters[126](126/5000): Loss: 5.2840\n"
     ]
    },
    {
     "name": "stderr",
     "output_type": "stream",
     "text": [
      " 26%|██▌       | 26/100 [00:33<01:34,  1.27s/it]\n"
     ]
    },
    {
     "name": "stdout",
     "output_type": "stream",
     "text": [
      "===> Iters[152](152/5000): Loss: 5.2736\n"
     ]
    },
    {
     "name": "stderr",
     "output_type": "stream",
     "text": [
      " 26%|██▌       | 26/100 [00:33<01:34,  1.28s/it]\n"
     ]
    },
    {
     "name": "stdout",
     "output_type": "stream",
     "text": [
      "===> Iters[178](178/5000): Loss: 5.2825\n"
     ]
    },
    {
     "name": "stderr",
     "output_type": "stream",
     "text": [
      " 22%|██▏       | 22/100 [00:29<01:45,  1.35s/it]\n"
     ]
    },
    {
     "name": "stdout",
     "output_type": "stream",
     "text": [
      "===> Iters[200](200/5000): Loss: 4.5308\n",
      "Checkpoint saved to ./work_dir/irdrop_mavi//swinTransformer_iters_200.pth\n"
     ]
    },
    {
     "name": "stderr",
     "output_type": "stream",
     "text": [
      " 26%|██▌       | 26/100 [00:33<01:35,  1.29s/it]\n"
     ]
    },
    {
     "name": "stdout",
     "output_type": "stream",
     "text": [
      "===> Iters[226](226/5000): Loss: 5.2689\n"
     ]
    },
    {
     "name": "stderr",
     "output_type": "stream",
     "text": [
      " 26%|██▌       | 26/100 [00:33<01:35,  1.29s/it]\n"
     ]
    },
    {
     "name": "stdout",
     "output_type": "stream",
     "text": [
      "===> Iters[252](252/5000): Loss: 5.2481\n"
     ]
    },
    {
     "name": "stderr",
     "output_type": "stream",
     "text": [
      " 26%|██▌       | 26/100 [00:33<01:36,  1.30s/it]\n"
     ]
    },
    {
     "name": "stdout",
     "output_type": "stream",
     "text": [
      "===> Iters[278](278/5000): Loss: 5.2502\n"
     ]
    },
    {
     "name": "stderr",
     "output_type": "stream",
     "text": [
      " 22%|██▏       | 22/100 [00:28<01:42,  1.32s/it]\n"
     ]
    },
    {
     "name": "stdout",
     "output_type": "stream",
     "text": [
      "===> Iters[300](300/5000): Loss: 4.4473\n",
      "Checkpoint saved to ./work_dir/irdrop_mavi//swinTransformer_iters_300.pth\n"
     ]
    },
    {
     "name": "stderr",
     "output_type": "stream",
     "text": [
      " 26%|██▌       | 26/100 [00:33<01:34,  1.27s/it]\n"
     ]
    },
    {
     "name": "stdout",
     "output_type": "stream",
     "text": [
      "===> Iters[326](326/5000): Loss: 5.3036\n"
     ]
    },
    {
     "name": "stderr",
     "output_type": "stream",
     "text": [
      " 26%|██▌       | 26/100 [00:33<01:35,  1.29s/it]\n"
     ]
    },
    {
     "name": "stdout",
     "output_type": "stream",
     "text": [
      "===> Iters[352](352/5000): Loss: 5.2635\n"
     ]
    },
    {
     "name": "stderr",
     "output_type": "stream",
     "text": [
      " 26%|██▌       | 26/100 [00:33<01:35,  1.29s/it]\n"
     ]
    },
    {
     "name": "stdout",
     "output_type": "stream",
     "text": [
      "===> Iters[378](378/5000): Loss: 5.2646\n"
     ]
    },
    {
     "name": "stderr",
     "output_type": "stream",
     "text": [
      " 22%|██▏       | 22/100 [00:29<01:43,  1.32s/it]\n"
     ]
    },
    {
     "name": "stdout",
     "output_type": "stream",
     "text": [
      "===> Iters[400](400/5000): Loss: 4.5030\n",
      "Checkpoint saved to ./work_dir/irdrop_mavi//swinTransformer_iters_400.pth\n"
     ]
    },
    {
     "name": "stderr",
     "output_type": "stream",
     "text": [
      " 26%|██▌       | 26/100 [00:33<01:35,  1.29s/it]\n"
     ]
    },
    {
     "name": "stdout",
     "output_type": "stream",
     "text": [
      "===> Iters[426](426/5000): Loss: 5.3114\n"
     ]
    },
    {
     "name": "stderr",
     "output_type": "stream",
     "text": [
      " 26%|██▌       | 26/100 [00:33<01:35,  1.29s/it]\n"
     ]
    },
    {
     "name": "stdout",
     "output_type": "stream",
     "text": [
      "===> Iters[452](452/5000): Loss: 5.2435\n"
     ]
    },
    {
     "name": "stderr",
     "output_type": "stream",
     "text": [
      " 26%|██▌       | 26/100 [00:33<01:35,  1.29s/it]\n"
     ]
    },
    {
     "name": "stdout",
     "output_type": "stream",
     "text": [
      "===> Iters[478](478/5000): Loss: 5.3691\n"
     ]
    },
    {
     "name": "stderr",
     "output_type": "stream",
     "text": [
      " 22%|██▏       | 22/100 [00:29<01:44,  1.34s/it]\n"
     ]
    },
    {
     "name": "stdout",
     "output_type": "stream",
     "text": [
      "===> Iters[500](500/5000): Loss: 4.5646\n",
      "Checkpoint saved to ./work_dir/irdrop_mavi//swinTransformer_iters_500.pth\n"
     ]
    },
    {
     "name": "stderr",
     "output_type": "stream",
     "text": [
      " 26%|██▌       | 26/100 [00:34<01:39,  1.34s/it]\n"
     ]
    },
    {
     "name": "stdout",
     "output_type": "stream",
     "text": [
      "===> Iters[526](526/5000): Loss: 5.2635\n"
     ]
    },
    {
     "name": "stderr",
     "output_type": "stream",
     "text": [
      " 26%|██▌       | 26/100 [00:34<01:37,  1.32s/it]\n"
     ]
    },
    {
     "name": "stdout",
     "output_type": "stream",
     "text": [
      "===> Iters[552](552/5000): Loss: 5.2362\n"
     ]
    },
    {
     "name": "stderr",
     "output_type": "stream",
     "text": [
      " 26%|██▌       | 26/100 [00:33<01:35,  1.29s/it]\n"
     ]
    },
    {
     "name": "stdout",
     "output_type": "stream",
     "text": [
      "===> Iters[578](578/5000): Loss: 5.2556\n"
     ]
    },
    {
     "name": "stderr",
     "output_type": "stream",
     "text": [
      " 22%|██▏       | 22/100 [00:29<01:43,  1.33s/it]\n"
     ]
    },
    {
     "name": "stdout",
     "output_type": "stream",
     "text": [
      "===> Iters[600](600/5000): Loss: 4.5247\n",
      "Checkpoint saved to ./work_dir/irdrop_mavi//swinTransformer_iters_600.pth\n"
     ]
    },
    {
     "name": "stderr",
     "output_type": "stream",
     "text": [
      " 26%|██▌       | 26/100 [00:34<01:37,  1.32s/it]\n"
     ]
    },
    {
     "name": "stdout",
     "output_type": "stream",
     "text": [
      "===> Iters[626](626/5000): Loss: 5.2689\n"
     ]
    },
    {
     "name": "stderr",
     "output_type": "stream",
     "text": [
      " 26%|██▌       | 26/100 [00:33<01:35,  1.30s/it]\n"
     ]
    },
    {
     "name": "stdout",
     "output_type": "stream",
     "text": [
      "===> Iters[652](652/5000): Loss: 5.2395\n"
     ]
    },
    {
     "name": "stderr",
     "output_type": "stream",
     "text": [
      " 26%|██▌       | 26/100 [00:33<01:35,  1.29s/it]\n"
     ]
    },
    {
     "name": "stdout",
     "output_type": "stream",
     "text": [
      "===> Iters[678](678/5000): Loss: 5.3101\n"
     ]
    },
    {
     "name": "stderr",
     "output_type": "stream",
     "text": [
      " 22%|██▏       | 22/100 [00:29<01:45,  1.36s/it]\n"
     ]
    },
    {
     "name": "stdout",
     "output_type": "stream",
     "text": [
      "===> Iters[700](700/5000): Loss: 4.3920\n",
      "Checkpoint saved to ./work_dir/irdrop_mavi//swinTransformer_iters_700.pth\n"
     ]
    },
    {
     "name": "stderr",
     "output_type": "stream",
     "text": [
      " 26%|██▌       | 26/100 [00:34<01:37,  1.31s/it]\n"
     ]
    },
    {
     "name": "stdout",
     "output_type": "stream",
     "text": [
      "===> Iters[726](726/5000): Loss: 5.2689\n"
     ]
    },
    {
     "name": "stderr",
     "output_type": "stream",
     "text": [
      " 26%|██▌       | 26/100 [00:34<01:36,  1.31s/it]\n"
     ]
    },
    {
     "name": "stdout",
     "output_type": "stream",
     "text": [
      "===> Iters[752](752/5000): Loss: 5.2502\n"
     ]
    },
    {
     "name": "stderr",
     "output_type": "stream",
     "text": [
      " 26%|██▌       | 26/100 [00:34<01:37,  1.31s/it]\n"
     ]
    },
    {
     "name": "stdout",
     "output_type": "stream",
     "text": [
      "===> Iters[778](778/5000): Loss: 5.2646\n"
     ]
    },
    {
     "name": "stderr",
     "output_type": "stream",
     "text": [
      " 22%|██▏       | 22/100 [00:28<01:42,  1.31s/it]\n"
     ]
    },
    {
     "name": "stdout",
     "output_type": "stream",
     "text": [
      "===> Iters[800](800/5000): Loss: 4.5107\n",
      "Checkpoint saved to ./work_dir/irdrop_mavi//swinTransformer_iters_800.pth\n"
     ]
    },
    {
     "name": "stderr",
     "output_type": "stream",
     "text": [
      " 26%|██▌       | 26/100 [00:33<01:35,  1.29s/it]\n"
     ]
    },
    {
     "name": "stdout",
     "output_type": "stream",
     "text": [
      "===> Iters[826](826/5000): Loss: 5.2832\n"
     ]
    },
    {
     "name": "stderr",
     "output_type": "stream",
     "text": [
      " 26%|██▌       | 26/100 [00:33<01:35,  1.29s/it]\n"
     ]
    },
    {
     "name": "stdout",
     "output_type": "stream",
     "text": [
      "===> Iters[852](852/5000): Loss: 5.2840\n"
     ]
    },
    {
     "name": "stderr",
     "output_type": "stream",
     "text": [
      " 26%|██▌       | 26/100 [00:33<01:36,  1.30s/it]\n"
     ]
    },
    {
     "name": "stdout",
     "output_type": "stream",
     "text": [
      "===> Iters[878](878/5000): Loss: 5.3117\n"
     ]
    },
    {
     "name": "stderr",
     "output_type": "stream",
     "text": [
      " 22%|██▏       | 22/100 [00:29<01:43,  1.32s/it]\n"
     ]
    },
    {
     "name": "stdout",
     "output_type": "stream",
     "text": [
      "===> Iters[900](900/5000): Loss: 4.5007\n",
      "Checkpoint saved to ./work_dir/irdrop_mavi//swinTransformer_iters_900.pth\n"
     ]
    },
    {
     "name": "stderr",
     "output_type": "stream",
     "text": [
      " 26%|██▌       | 26/100 [00:37<01:47,  1.45s/it]\n"
     ]
    },
    {
     "name": "stdout",
     "output_type": "stream",
     "text": [
      "===> Iters[926](926/5000): Loss: 5.3274\n"
     ]
    },
    {
     "name": "stderr",
     "output_type": "stream",
     "text": [
      " 26%|██▌       | 26/100 [00:34<01:37,  1.31s/it]\n"
     ]
    },
    {
     "name": "stdout",
     "output_type": "stream",
     "text": [
      "===> Iters[952](952/5000): Loss: 5.2221\n"
     ]
    },
    {
     "name": "stderr",
     "output_type": "stream",
     "text": [
      " 26%|██▌       | 26/100 [00:34<01:39,  1.34s/it]\n"
     ]
    },
    {
     "name": "stdout",
     "output_type": "stream",
     "text": [
      "===> Iters[978](978/5000): Loss: 5.2749\n"
     ]
    },
    {
     "name": "stderr",
     "output_type": "stream",
     "text": [
      " 22%|██▏       | 22/100 [00:29<01:44,  1.34s/it]\n"
     ]
    },
    {
     "name": "stdout",
     "output_type": "stream",
     "text": [
      "===> Iters[1000](1000/5000): Loss: 4.3786\n",
      "Checkpoint saved to ./work_dir/irdrop_mavi//swinTransformer_iters_1000.pth\n"
     ]
    },
    {
     "name": "stderr",
     "output_type": "stream",
     "text": [
      " 26%|██▌       | 26/100 [00:34<01:38,  1.34s/it]\n"
     ]
    },
    {
     "name": "stdout",
     "output_type": "stream",
     "text": [
      "===> Iters[1026](1026/5000): Loss: 5.2342\n"
     ]
    },
    {
     "name": "stderr",
     "output_type": "stream",
     "text": [
      " 26%|██▌       | 26/100 [00:33<01:35,  1.29s/it]\n"
     ]
    },
    {
     "name": "stdout",
     "output_type": "stream",
     "text": [
      "===> Iters[1052](1052/5000): Loss: 5.2747\n"
     ]
    },
    {
     "name": "stderr",
     "output_type": "stream",
     "text": [
      " 26%|██▌       | 26/100 [00:33<01:35,  1.29s/it]\n"
     ]
    },
    {
     "name": "stdout",
     "output_type": "stream",
     "text": [
      "===> Iters[1078](1078/5000): Loss: 5.2832\n"
     ]
    },
    {
     "name": "stderr",
     "output_type": "stream",
     "text": [
      " 22%|██▏       | 22/100 [00:29<01:43,  1.33s/it]\n"
     ]
    },
    {
     "name": "stdout",
     "output_type": "stream",
     "text": [
      "===> Iters[1100](1100/5000): Loss: 4.5274\n",
      "Checkpoint saved to ./work_dir/irdrop_mavi//swinTransformer_iters_1100.pth\n"
     ]
    },
    {
     "name": "stderr",
     "output_type": "stream",
     "text": [
      " 26%|██▌       | 26/100 [00:34<01:37,  1.31s/it]\n"
     ]
    },
    {
     "name": "stdout",
     "output_type": "stream",
     "text": [
      "===> Iters[1126](1126/5000): Loss: 5.2747\n"
     ]
    },
    {
     "name": "stderr",
     "output_type": "stream",
     "text": [
      " 26%|██▌       | 26/100 [00:33<01:36,  1.30s/it]\n"
     ]
    },
    {
     "name": "stdout",
     "output_type": "stream",
     "text": [
      "===> Iters[1152](1152/5000): Loss: 5.3525\n"
     ]
    },
    {
     "name": "stderr",
     "output_type": "stream",
     "text": [
      " 26%|██▌       | 26/100 [00:33<01:36,  1.30s/it]\n"
     ]
    },
    {
     "name": "stdout",
     "output_type": "stream",
     "text": [
      "===> Iters[1178](1178/5000): Loss: 5.3489\n"
     ]
    },
    {
     "name": "stderr",
     "output_type": "stream",
     "text": [
      " 22%|██▏       | 22/100 [00:28<01:42,  1.32s/it]\n"
     ]
    },
    {
     "name": "stdout",
     "output_type": "stream",
     "text": [
      "===> Iters[1200](1200/5000): Loss: 4.4787\n",
      "Checkpoint saved to ./work_dir/irdrop_mavi//swinTransformer_iters_1200.pth\n"
     ]
    },
    {
     "name": "stderr",
     "output_type": "stream",
     "text": [
      " 26%|██▌       | 26/100 [00:34<01:38,  1.33s/it]\n"
     ]
    },
    {
     "name": "stdout",
     "output_type": "stream",
     "text": [
      "===> Iters[1226](1226/5000): Loss: 5.3442\n"
     ]
    },
    {
     "name": "stderr",
     "output_type": "stream",
     "text": [
      " 26%|██▌       | 26/100 [00:34<01:37,  1.32s/it]\n"
     ]
    },
    {
     "name": "stdout",
     "output_type": "stream",
     "text": [
      "===> Iters[1252](1252/5000): Loss: 5.2737\n"
     ]
    },
    {
     "name": "stderr",
     "output_type": "stream",
     "text": [
      " 26%|██▌       | 26/100 [00:34<01:37,  1.31s/it]\n"
     ]
    },
    {
     "name": "stdout",
     "output_type": "stream",
     "text": [
      "===> Iters[1278](1278/5000): Loss: 5.2362\n"
     ]
    },
    {
     "name": "stderr",
     "output_type": "stream",
     "text": [
      " 22%|██▏       | 22/100 [00:29<01:44,  1.33s/it]\n"
     ]
    },
    {
     "name": "stdout",
     "output_type": "stream",
     "text": [
      "===> Iters[1300](1300/5000): Loss: 4.5275\n",
      "Checkpoint saved to ./work_dir/irdrop_mavi//swinTransformer_iters_1300.pth\n"
     ]
    },
    {
     "name": "stderr",
     "output_type": "stream",
     "text": [
      " 26%|██▌       | 26/100 [00:34<01:38,  1.33s/it]\n"
     ]
    },
    {
     "name": "stdout",
     "output_type": "stream",
     "text": [
      "===> Iters[1326](1326/5000): Loss: 5.3183\n"
     ]
    },
    {
     "name": "stderr",
     "output_type": "stream",
     "text": [
      " 26%|██▌       | 26/100 [00:35<01:39,  1.35s/it]\n"
     ]
    },
    {
     "name": "stdout",
     "output_type": "stream",
     "text": [
      "===> Iters[1352](1352/5000): Loss: 5.2730\n"
     ]
    },
    {
     "name": "stderr",
     "output_type": "stream",
     "text": [
      " 26%|██▌       | 26/100 [00:34<01:36,  1.31s/it]\n"
     ]
    },
    {
     "name": "stdout",
     "output_type": "stream",
     "text": [
      "===> Iters[1378](1378/5000): Loss: 5.2816\n"
     ]
    },
    {
     "name": "stderr",
     "output_type": "stream",
     "text": [
      " 22%|██▏       | 22/100 [00:30<01:48,  1.39s/it]\n"
     ]
    },
    {
     "name": "stdout",
     "output_type": "stream",
     "text": [
      "===> Iters[1400](1400/5000): Loss: 4.5115\n",
      "Checkpoint saved to ./work_dir/irdrop_mavi//swinTransformer_iters_1400.pth\n"
     ]
    },
    {
     "name": "stderr",
     "output_type": "stream",
     "text": [
      " 26%|██▌       | 26/100 [00:33<01:36,  1.31s/it]\n"
     ]
    },
    {
     "name": "stdout",
     "output_type": "stream",
     "text": [
      "===> Iters[1426](1426/5000): Loss: 5.2825\n"
     ]
    },
    {
     "name": "stderr",
     "output_type": "stream",
     "text": [
      " 26%|██▌       | 26/100 [00:33<01:34,  1.28s/it]\n"
     ]
    },
    {
     "name": "stdout",
     "output_type": "stream",
     "text": [
      "===> Iters[1452](1452/5000): Loss: 5.2900\n"
     ]
    },
    {
     "name": "stderr",
     "output_type": "stream",
     "text": [
      " 26%|██▌       | 26/100 [00:32<01:33,  1.26s/it]\n"
     ]
    },
    {
     "name": "stdout",
     "output_type": "stream",
     "text": [
      "===> Iters[1478](1478/5000): Loss: 5.3340\n"
     ]
    },
    {
     "name": "stderr",
     "output_type": "stream",
     "text": [
      " 22%|██▏       | 22/100 [00:28<01:40,  1.29s/it]\n"
     ]
    },
    {
     "name": "stdout",
     "output_type": "stream",
     "text": [
      "===> Iters[1500](1500/5000): Loss: 4.6364\n",
      "Checkpoint saved to ./work_dir/irdrop_mavi//swinTransformer_iters_1500.pth\n"
     ]
    },
    {
     "name": "stderr",
     "output_type": "stream",
     "text": [
      " 26%|██▌       | 26/100 [00:32<01:33,  1.27s/it]\n"
     ]
    },
    {
     "name": "stdout",
     "output_type": "stream",
     "text": [
      "===> Iters[1526](1526/5000): Loss: 5.3489\n"
     ]
    },
    {
     "name": "stderr",
     "output_type": "stream",
     "text": [
      " 26%|██▌       | 26/100 [00:32<01:32,  1.25s/it]\n"
     ]
    },
    {
     "name": "stdout",
     "output_type": "stream",
     "text": [
      "===> Iters[1552](1552/5000): Loss: 5.2759\n"
     ]
    },
    {
     "name": "stderr",
     "output_type": "stream",
     "text": [
      " 26%|██▌       | 26/100 [00:32<01:32,  1.25s/it]\n"
     ]
    },
    {
     "name": "stdout",
     "output_type": "stream",
     "text": [
      "===> Iters[1578](1578/5000): Loss: 5.2769\n"
     ]
    },
    {
     "name": "stderr",
     "output_type": "stream",
     "text": [
      " 22%|██▏       | 22/100 [00:28<01:40,  1.28s/it]\n"
     ]
    },
    {
     "name": "stdout",
     "output_type": "stream",
     "text": [
      "===> Iters[1600](1600/5000): Loss: 4.3755\n",
      "Checkpoint saved to ./work_dir/irdrop_mavi//swinTransformer_iters_1600.pth\n"
     ]
    },
    {
     "name": "stderr",
     "output_type": "stream",
     "text": [
      " 26%|██▌       | 26/100 [00:32<01:33,  1.26s/it]\n"
     ]
    },
    {
     "name": "stdout",
     "output_type": "stream",
     "text": [
      "===> Iters[1626](1626/5000): Loss: 5.2583\n"
     ]
    },
    {
     "name": "stderr",
     "output_type": "stream",
     "text": [
      " 26%|██▌       | 26/100 [00:33<01:35,  1.29s/it]\n"
     ]
    },
    {
     "name": "stdout",
     "output_type": "stream",
     "text": [
      "===> Iters[1652](1652/5000): Loss: 5.2583\n"
     ]
    },
    {
     "name": "stderr",
     "output_type": "stream",
     "text": [
      " 26%|██▌       | 26/100 [00:32<01:32,  1.26s/it]\n"
     ]
    },
    {
     "name": "stdout",
     "output_type": "stream",
     "text": [
      "===> Iters[1678](1678/5000): Loss: 5.2437\n"
     ]
    },
    {
     "name": "stderr",
     "output_type": "stream",
     "text": [
      " 22%|██▏       | 22/100 [00:28<01:41,  1.31s/it]\n"
     ]
    },
    {
     "name": "stdout",
     "output_type": "stream",
     "text": [
      "===> Iters[1700](1700/5000): Loss: 4.5202\n",
      "Checkpoint saved to ./work_dir/irdrop_mavi//swinTransformer_iters_1700.pth\n"
     ]
    },
    {
     "name": "stderr",
     "output_type": "stream",
     "text": [
      " 26%|██▌       | 26/100 [00:33<01:34,  1.28s/it]\n"
     ]
    },
    {
     "name": "stdout",
     "output_type": "stream",
     "text": [
      "===> Iters[1726](1726/5000): Loss: 5.2756\n"
     ]
    },
    {
     "name": "stderr",
     "output_type": "stream",
     "text": [
      " 26%|██▌       | 26/100 [00:33<01:34,  1.28s/it]\n"
     ]
    },
    {
     "name": "stdout",
     "output_type": "stream",
     "text": [
      "===> Iters[1752](1752/5000): Loss: 5.2756\n"
     ]
    },
    {
     "name": "stderr",
     "output_type": "stream",
     "text": [
      " 26%|██▌       | 26/100 [00:32<01:33,  1.26s/it]\n"
     ]
    },
    {
     "name": "stdout",
     "output_type": "stream",
     "text": [
      "===> Iters[1778](1778/5000): Loss: 5.2635\n"
     ]
    },
    {
     "name": "stderr",
     "output_type": "stream",
     "text": [
      " 22%|██▏       | 22/100 [00:28<01:40,  1.29s/it]\n"
     ]
    },
    {
     "name": "stdout",
     "output_type": "stream",
     "text": [
      "===> Iters[1800](1800/5000): Loss: 4.3981\n",
      "Checkpoint saved to ./work_dir/irdrop_mavi//swinTransformer_iters_1800.pth\n"
     ]
    },
    {
     "name": "stderr",
     "output_type": "stream",
     "text": [
      " 26%|██▌       | 26/100 [00:32<01:32,  1.26s/it]\n"
     ]
    },
    {
     "name": "stdout",
     "output_type": "stream",
     "text": [
      "===> Iters[1826](1826/5000): Loss: 5.3117\n"
     ]
    },
    {
     "name": "stderr",
     "output_type": "stream",
     "text": [
      " 26%|██▌       | 26/100 [00:32<01:33,  1.27s/it]\n"
     ]
    },
    {
     "name": "stdout",
     "output_type": "stream",
     "text": [
      "===> Iters[1852](1852/5000): Loss: 5.2730\n"
     ]
    },
    {
     "name": "stderr",
     "output_type": "stream",
     "text": [
      " 26%|██▌       | 26/100 [00:32<01:33,  1.26s/it]\n"
     ]
    },
    {
     "name": "stdout",
     "output_type": "stream",
     "text": [
      "===> Iters[1878](1878/5000): Loss: 5.2756\n"
     ]
    },
    {
     "name": "stderr",
     "output_type": "stream",
     "text": [
      " 22%|██▏       | 22/100 [00:28<01:39,  1.28s/it]\n"
     ]
    },
    {
     "name": "stdout",
     "output_type": "stream",
     "text": [
      "===> Iters[1900](1900/5000): Loss: 4.4259\n",
      "Checkpoint saved to ./work_dir/irdrop_mavi//swinTransformer_iters_1900.pth\n"
     ]
    },
    {
     "name": "stderr",
     "output_type": "stream",
     "text": [
      " 26%|██▌       | 26/100 [00:32<01:33,  1.26s/it]\n"
     ]
    },
    {
     "name": "stdout",
     "output_type": "stream",
     "text": [
      "===> Iters[1926](1926/5000): Loss: 5.3015\n"
     ]
    },
    {
     "name": "stderr",
     "output_type": "stream",
     "text": [
      " 26%|██▌       | 26/100 [00:32<01:32,  1.25s/it]\n"
     ]
    },
    {
     "name": "stdout",
     "output_type": "stream",
     "text": [
      "===> Iters[1952](1952/5000): Loss: 5.2435\n"
     ]
    },
    {
     "name": "stderr",
     "output_type": "stream",
     "text": [
      " 26%|██▌       | 26/100 [00:32<01:33,  1.26s/it]\n"
     ]
    },
    {
     "name": "stdout",
     "output_type": "stream",
     "text": [
      "===> Iters[1978](1978/5000): Loss: 5.2646\n"
     ]
    },
    {
     "name": "stderr",
     "output_type": "stream",
     "text": [
      " 22%|██▏       | 22/100 [00:28<01:39,  1.28s/it]\n"
     ]
    },
    {
     "name": "stdout",
     "output_type": "stream",
     "text": [
      "===> Iters[2000](2000/5000): Loss: 4.5164\n",
      "Checkpoint saved to ./work_dir/irdrop_mavi//swinTransformer_iters_2000.pth\n"
     ]
    },
    {
     "name": "stderr",
     "output_type": "stream",
     "text": [
      " 26%|██▌       | 26/100 [00:32<01:32,  1.25s/it]\n"
     ]
    },
    {
     "name": "stdout",
     "output_type": "stream",
     "text": [
      "===> Iters[2026](2026/5000): Loss: 5.2749\n"
     ]
    },
    {
     "name": "stderr",
     "output_type": "stream",
     "text": [
      " 26%|██▌       | 26/100 [00:32<01:33,  1.26s/it]\n"
     ]
    },
    {
     "name": "stdout",
     "output_type": "stream",
     "text": [
      "===> Iters[2052](2052/5000): Loss: 5.3036\n"
     ]
    },
    {
     "name": "stderr",
     "output_type": "stream",
     "text": [
      " 26%|██▌       | 26/100 [00:32<01:33,  1.26s/it]\n"
     ]
    },
    {
     "name": "stdout",
     "output_type": "stream",
     "text": [
      "===> Iters[2078](2078/5000): Loss: 5.2778\n"
     ]
    },
    {
     "name": "stderr",
     "output_type": "stream",
     "text": [
      " 22%|██▏       | 22/100 [00:28<01:40,  1.29s/it]\n"
     ]
    },
    {
     "name": "stdout",
     "output_type": "stream",
     "text": [
      "===> Iters[2100](2100/5000): Loss: 4.4999\n",
      "Checkpoint saved to ./work_dir/irdrop_mavi//swinTransformer_iters_2100.pth\n"
     ]
    },
    {
     "name": "stderr",
     "output_type": "stream",
     "text": [
      " 26%|██▌       | 26/100 [00:32<01:33,  1.26s/it]\n"
     ]
    },
    {
     "name": "stdout",
     "output_type": "stream",
     "text": [
      "===> Iters[2126](2126/5000): Loss: 5.2321\n"
     ]
    },
    {
     "name": "stderr",
     "output_type": "stream",
     "text": [
      " 26%|██▌       | 26/100 [00:33<01:35,  1.29s/it]\n"
     ]
    },
    {
     "name": "stdout",
     "output_type": "stream",
     "text": [
      "===> Iters[2152](2152/5000): Loss: 5.2730\n"
     ]
    },
    {
     "name": "stderr",
     "output_type": "stream",
     "text": [
      " 26%|██▌       | 26/100 [00:32<01:32,  1.25s/it]\n"
     ]
    },
    {
     "name": "stdout",
     "output_type": "stream",
     "text": [
      "===> Iters[2178](2178/5000): Loss: 5.2928\n"
     ]
    },
    {
     "name": "stderr",
     "output_type": "stream",
     "text": [
      " 22%|██▏       | 22/100 [00:28<01:40,  1.29s/it]\n"
     ]
    },
    {
     "name": "stdout",
     "output_type": "stream",
     "text": [
      "===> Iters[2200](2200/5000): Loss: 4.5076\n",
      "Checkpoint saved to ./work_dir/irdrop_mavi//swinTransformer_iters_2200.pth\n"
     ]
    },
    {
     "name": "stderr",
     "output_type": "stream",
     "text": [
      " 26%|██▌       | 26/100 [00:32<01:32,  1.26s/it]\n"
     ]
    },
    {
     "name": "stdout",
     "output_type": "stream",
     "text": [
      "===> Iters[2226](2226/5000): Loss: 5.3098\n"
     ]
    },
    {
     "name": "stderr",
     "output_type": "stream",
     "text": [
      " 26%|██▌       | 26/100 [00:32<01:32,  1.25s/it]\n"
     ]
    },
    {
     "name": "stdout",
     "output_type": "stream",
     "text": [
      "===> Iters[2252](2252/5000): Loss: 5.2650\n"
     ]
    },
    {
     "name": "stderr",
     "output_type": "stream",
     "text": [
      " 26%|██▌       | 26/100 [00:32<01:33,  1.27s/it]\n"
     ]
    },
    {
     "name": "stdout",
     "output_type": "stream",
     "text": [
      "===> Iters[2278](2278/5000): Loss: 5.2832\n"
     ]
    },
    {
     "name": "stderr",
     "output_type": "stream",
     "text": [
      " 22%|██▏       | 22/100 [00:28<01:40,  1.29s/it]\n"
     ]
    },
    {
     "name": "stdout",
     "output_type": "stream",
     "text": [
      "===> Iters[2300](2300/5000): Loss: 4.4528\n",
      "Checkpoint saved to ./work_dir/irdrop_mavi//swinTransformer_iters_2300.pth\n"
     ]
    },
    {
     "name": "stderr",
     "output_type": "stream",
     "text": [
      " 26%|██▌       | 26/100 [00:32<01:33,  1.26s/it]\n"
     ]
    },
    {
     "name": "stdout",
     "output_type": "stream",
     "text": [
      "===> Iters[2326](2326/5000): Loss: 5.2395\n"
     ]
    },
    {
     "name": "stderr",
     "output_type": "stream",
     "text": [
      " 26%|██▌       | 26/100 [00:33<01:33,  1.27s/it]\n"
     ]
    },
    {
     "name": "stdout",
     "output_type": "stream",
     "text": [
      "===> Iters[2352](2352/5000): Loss: 5.2689\n"
     ]
    },
    {
     "name": "stderr",
     "output_type": "stream",
     "text": [
      " 26%|██▌       | 26/100 [00:32<01:33,  1.26s/it]\n"
     ]
    },
    {
     "name": "stdout",
     "output_type": "stream",
     "text": [
      "===> Iters[2378](2378/5000): Loss: 5.2657\n"
     ]
    },
    {
     "name": "stderr",
     "output_type": "stream",
     "text": [
      " 22%|██▏       | 22/100 [00:29<01:44,  1.34s/it]\n"
     ]
    },
    {
     "name": "stdout",
     "output_type": "stream",
     "text": [
      "===> Iters[2400](2400/5000): Loss: 4.4697\n",
      "Checkpoint saved to ./work_dir/irdrop_mavi//swinTransformer_iters_2400.pth\n"
     ]
    },
    {
     "name": "stderr",
     "output_type": "stream",
     "text": [
      " 26%|██▌       | 26/100 [00:33<01:35,  1.29s/it]\n"
     ]
    },
    {
     "name": "stdout",
     "output_type": "stream",
     "text": [
      "===> Iters[2426](2426/5000): Loss: 5.2904\n"
     ]
    },
    {
     "name": "stderr",
     "output_type": "stream",
     "text": [
      " 26%|██▌       | 26/100 [00:33<01:35,  1.29s/it]\n"
     ]
    },
    {
     "name": "stdout",
     "output_type": "stream",
     "text": [
      "===> Iters[2452](2452/5000): Loss: 5.2898\n"
     ]
    },
    {
     "name": "stderr",
     "output_type": "stream",
     "text": [
      " 26%|██▌       | 26/100 [00:33<01:34,  1.28s/it]\n"
     ]
    },
    {
     "name": "stdout",
     "output_type": "stream",
     "text": [
      "===> Iters[2478](2478/5000): Loss: 5.3056\n"
     ]
    },
    {
     "name": "stderr",
     "output_type": "stream",
     "text": [
      " 22%|██▏       | 22/100 [00:29<01:44,  1.34s/it]\n"
     ]
    },
    {
     "name": "stdout",
     "output_type": "stream",
     "text": [
      "===> Iters[2500](2500/5000): Loss: 4.5088\n",
      "Checkpoint saved to ./work_dir/irdrop_mavi//swinTransformer_iters_2500.pth\n"
     ]
    },
    {
     "name": "stderr",
     "output_type": "stream",
     "text": [
      " 26%|██▌       | 26/100 [00:33<01:36,  1.31s/it]\n"
     ]
    },
    {
     "name": "stdout",
     "output_type": "stream",
     "text": [
      "===> Iters[2526](2526/5000): Loss: 5.2778\n"
     ]
    },
    {
     "name": "stderr",
     "output_type": "stream",
     "text": [
      " 26%|██▌       | 26/100 [00:34<01:37,  1.31s/it]\n"
     ]
    },
    {
     "name": "stdout",
     "output_type": "stream",
     "text": [
      "===> Iters[2552](2552/5000): Loss: 5.2898\n"
     ]
    },
    {
     "name": "stderr",
     "output_type": "stream",
     "text": [
      " 26%|██▌       | 26/100 [00:34<01:37,  1.32s/it]\n"
     ]
    },
    {
     "name": "stdout",
     "output_type": "stream",
     "text": [
      "===> Iters[2578](2578/5000): Loss: 5.3999\n"
     ]
    },
    {
     "name": "stderr",
     "output_type": "stream",
     "text": [
      " 22%|██▏       | 22/100 [00:29<01:43,  1.33s/it]\n"
     ]
    },
    {
     "name": "stdout",
     "output_type": "stream",
     "text": [
      "===> Iters[2600](2600/5000): Loss: 4.5206\n",
      "Checkpoint saved to ./work_dir/irdrop_mavi//swinTransformer_iters_2600.pth\n"
     ]
    },
    {
     "name": "stderr",
     "output_type": "stream",
     "text": [
      " 26%|██▌       | 26/100 [00:33<01:35,  1.29s/it]\n"
     ]
    },
    {
     "name": "stdout",
     "output_type": "stream",
     "text": [
      "===> Iters[2626](2626/5000): Loss: 5.3570\n"
     ]
    },
    {
     "name": "stderr",
     "output_type": "stream",
     "text": [
      " 26%|██▌       | 26/100 [00:32<01:33,  1.26s/it]\n"
     ]
    },
    {
     "name": "stdout",
     "output_type": "stream",
     "text": [
      "===> Iters[2652](2652/5000): Loss: 5.2435\n"
     ]
    },
    {
     "name": "stderr",
     "output_type": "stream",
     "text": [
      " 26%|██▌       | 26/100 [00:32<01:33,  1.26s/it]\n"
     ]
    },
    {
     "name": "stdout",
     "output_type": "stream",
     "text": [
      "===> Iters[2678](2678/5000): Loss: 5.3697\n"
     ]
    },
    {
     "name": "stderr",
     "output_type": "stream",
     "text": [
      " 22%|██▏       | 22/100 [00:28<01:41,  1.30s/it]\n"
     ]
    },
    {
     "name": "stdout",
     "output_type": "stream",
     "text": [
      "===> Iters[2700](2700/5000): Loss: 4.5333\n",
      "Checkpoint saved to ./work_dir/irdrop_mavi//swinTransformer_iters_2700.pth\n"
     ]
    },
    {
     "name": "stderr",
     "output_type": "stream",
     "text": [
      " 26%|██▌       | 26/100 [00:32<01:33,  1.27s/it]\n"
     ]
    },
    {
     "name": "stdout",
     "output_type": "stream",
     "text": [
      "===> Iters[2726](2726/5000): Loss: 5.3056\n"
     ]
    },
    {
     "name": "stderr",
     "output_type": "stream",
     "text": [
      " 26%|██▌       | 26/100 [00:32<01:33,  1.27s/it]\n"
     ]
    },
    {
     "name": "stdout",
     "output_type": "stream",
     "text": [
      "===> Iters[2752](2752/5000): Loss: 5.2928\n"
     ]
    },
    {
     "name": "stderr",
     "output_type": "stream",
     "text": [
      " 26%|██▌       | 26/100 [00:32<01:33,  1.27s/it]\n"
     ]
    },
    {
     "name": "stdout",
     "output_type": "stream",
     "text": [
      "===> Iters[2778](2778/5000): Loss: 5.2472\n"
     ]
    },
    {
     "name": "stderr",
     "output_type": "stream",
     "text": [
      " 22%|██▏       | 22/100 [00:28<01:41,  1.30s/it]\n"
     ]
    },
    {
     "name": "stdout",
     "output_type": "stream",
     "text": [
      "===> Iters[2800](2800/5000): Loss: 4.5325\n",
      "Checkpoint saved to ./work_dir/irdrop_mavi//swinTransformer_iters_2800.pth\n"
     ]
    },
    {
     "name": "stderr",
     "output_type": "stream",
     "text": [
      " 26%|██▌       | 26/100 [00:33<01:34,  1.28s/it]\n"
     ]
    },
    {
     "name": "stdout",
     "output_type": "stream",
     "text": [
      "===> Iters[2826](2826/5000): Loss: 5.3183\n"
     ]
    },
    {
     "name": "stderr",
     "output_type": "stream",
     "text": [
      " 26%|██▌       | 26/100 [00:33<01:34,  1.28s/it]\n"
     ]
    },
    {
     "name": "stdout",
     "output_type": "stream",
     "text": [
      "===> Iters[2852](2852/5000): Loss: 5.3746\n"
     ]
    },
    {
     "name": "stderr",
     "output_type": "stream",
     "text": [
      " 26%|██▌       | 26/100 [00:33<01:34,  1.28s/it]\n"
     ]
    },
    {
     "name": "stdout",
     "output_type": "stream",
     "text": [
      "===> Iters[2878](2878/5000): Loss: 5.3999\n"
     ]
    },
    {
     "name": "stderr",
     "output_type": "stream",
     "text": [
      " 22%|██▏       | 22/100 [00:28<01:40,  1.29s/it]\n"
     ]
    },
    {
     "name": "stdout",
     "output_type": "stream",
     "text": [
      "===> Iters[2900](2900/5000): Loss: 4.4115\n",
      "Checkpoint saved to ./work_dir/irdrop_mavi//swinTransformer_iters_2900.pth\n"
     ]
    },
    {
     "name": "stderr",
     "output_type": "stream",
     "text": [
      " 26%|██▌       | 26/100 [00:33<01:36,  1.30s/it]\n"
     ]
    },
    {
     "name": "stdout",
     "output_type": "stream",
     "text": [
      "===> Iters[2926](2926/5000): Loss: 5.3150\n"
     ]
    },
    {
     "name": "stderr",
     "output_type": "stream",
     "text": [
      " 26%|██▌       | 26/100 [00:33<01:35,  1.29s/it]\n"
     ]
    },
    {
     "name": "stdout",
     "output_type": "stream",
     "text": [
      "===> Iters[2952](2952/5000): Loss: 5.2657\n"
     ]
    },
    {
     "name": "stderr",
     "output_type": "stream",
     "text": [
      " 26%|██▌       | 26/100 [00:33<01:34,  1.28s/it]\n"
     ]
    },
    {
     "name": "stdout",
     "output_type": "stream",
     "text": [
      "===> Iters[2978](2978/5000): Loss: 5.3066\n"
     ]
    },
    {
     "name": "stderr",
     "output_type": "stream",
     "text": [
      " 22%|██▏       | 22/100 [00:28<01:41,  1.31s/it]\n"
     ]
    },
    {
     "name": "stdout",
     "output_type": "stream",
     "text": [
      "===> Iters[3000](3000/5000): Loss: 4.4952\n",
      "Checkpoint saved to ./work_dir/irdrop_mavi//swinTransformer_iters_3000.pth\n"
     ]
    },
    {
     "name": "stderr",
     "output_type": "stream",
     "text": [
      " 26%|██▌       | 26/100 [00:33<01:34,  1.28s/it]\n"
     ]
    },
    {
     "name": "stdout",
     "output_type": "stream",
     "text": [
      "===> Iters[3026](3026/5000): Loss: 5.3066\n"
     ]
    },
    {
     "name": "stderr",
     "output_type": "stream",
     "text": [
      " 26%|██▌       | 26/100 [00:33<01:35,  1.29s/it]\n"
     ]
    },
    {
     "name": "stdout",
     "output_type": "stream",
     "text": [
      "===> Iters[3052](3052/5000): Loss: 5.2840\n"
     ]
    },
    {
     "name": "stderr",
     "output_type": "stream",
     "text": [
      " 26%|██▌       | 26/100 [00:33<01:33,  1.27s/it]\n"
     ]
    },
    {
     "name": "stdout",
     "output_type": "stream",
     "text": [
      "===> Iters[3078](3078/5000): Loss: 5.3515\n"
     ]
    },
    {
     "name": "stderr",
     "output_type": "stream",
     "text": [
      " 22%|██▏       | 22/100 [00:28<01:41,  1.30s/it]\n"
     ]
    },
    {
     "name": "stdout",
     "output_type": "stream",
     "text": [
      "===> Iters[3100](3100/5000): Loss: 4.4862\n",
      "Checkpoint saved to ./work_dir/irdrop_mavi//swinTransformer_iters_3100.pth\n"
     ]
    },
    {
     "name": "stderr",
     "output_type": "stream",
     "text": [
      " 26%|██▌       | 26/100 [00:33<01:34,  1.28s/it]\n"
     ]
    },
    {
     "name": "stdout",
     "output_type": "stream",
     "text": [
      "===> Iters[3126](3126/5000): Loss: 5.2364\n"
     ]
    },
    {
     "name": "stderr",
     "output_type": "stream",
     "text": [
      " 26%|██▌       | 26/100 [00:33<01:34,  1.28s/it]\n"
     ]
    },
    {
     "name": "stdout",
     "output_type": "stream",
     "text": [
      "===> Iters[3152](3152/5000): Loss: 5.2620\n"
     ]
    },
    {
     "name": "stderr",
     "output_type": "stream",
     "text": [
      " 26%|██▌       | 26/100 [00:33<01:34,  1.28s/it]\n"
     ]
    },
    {
     "name": "stdout",
     "output_type": "stream",
     "text": [
      "===> Iters[3178](3178/5000): Loss: 5.3104\n"
     ]
    },
    {
     "name": "stderr",
     "output_type": "stream",
     "text": [
      " 22%|██▏       | 22/100 [00:28<01:42,  1.32s/it]\n"
     ]
    },
    {
     "name": "stdout",
     "output_type": "stream",
     "text": [
      "===> Iters[3200](3200/5000): Loss: 4.4352\n",
      "Checkpoint saved to ./work_dir/irdrop_mavi//swinTransformer_iters_3200.pth\n"
     ]
    },
    {
     "name": "stderr",
     "output_type": "stream",
     "text": [
      " 26%|██▌       | 26/100 [00:33<01:36,  1.30s/it]\n"
     ]
    },
    {
     "name": "stdout",
     "output_type": "stream",
     "text": [
      "===> Iters[3226](3226/5000): Loss: 5.2609\n"
     ]
    },
    {
     "name": "stderr",
     "output_type": "stream",
     "text": [
      " 26%|██▌       | 26/100 [00:33<01:34,  1.28s/it]\n"
     ]
    },
    {
     "name": "stdout",
     "output_type": "stream",
     "text": [
      "===> Iters[3252](3252/5000): Loss: 5.3084\n"
     ]
    },
    {
     "name": "stderr",
     "output_type": "stream",
     "text": [
      " 26%|██▌       | 26/100 [00:33<01:34,  1.28s/it]\n"
     ]
    },
    {
     "name": "stdout",
     "output_type": "stream",
     "text": [
      "===> Iters[3278](3278/5000): Loss: 5.3317\n"
     ]
    },
    {
     "name": "stderr",
     "output_type": "stream",
     "text": [
      " 22%|██▏       | 22/100 [00:28<01:41,  1.30s/it]\n"
     ]
    },
    {
     "name": "stdout",
     "output_type": "stream",
     "text": [
      "===> Iters[3300](3300/5000): Loss: 4.5523\n",
      "Checkpoint saved to ./work_dir/irdrop_mavi//swinTransformer_iters_3300.pth\n"
     ]
    },
    {
     "name": "stderr",
     "output_type": "stream",
     "text": [
      " 26%|██▌       | 26/100 [00:33<01:34,  1.28s/it]\n"
     ]
    },
    {
     "name": "stdout",
     "output_type": "stream",
     "text": [
      "===> Iters[3326](3326/5000): Loss: 5.3464\n"
     ]
    },
    {
     "name": "stderr",
     "output_type": "stream",
     "text": [
      " 26%|██▌       | 26/100 [00:33<01:34,  1.27s/it]\n"
     ]
    },
    {
     "name": "stdout",
     "output_type": "stream",
     "text": [
      "===> Iters[3352](3352/5000): Loss: 5.3098\n"
     ]
    },
    {
     "name": "stderr",
     "output_type": "stream",
     "text": [
      " 26%|██▌       | 26/100 [00:33<01:34,  1.28s/it]\n"
     ]
    },
    {
     "name": "stdout",
     "output_type": "stream",
     "text": [
      "===> Iters[3378](3378/5000): Loss: 5.2749\n"
     ]
    },
    {
     "name": "stderr",
     "output_type": "stream",
     "text": [
      " 22%|██▏       | 22/100 [00:28<01:42,  1.31s/it]\n"
     ]
    },
    {
     "name": "stdout",
     "output_type": "stream",
     "text": [
      "===> Iters[3400](3400/5000): Loss: 4.4212\n",
      "Checkpoint saved to ./work_dir/irdrop_mavi//swinTransformer_iters_3400.pth\n"
     ]
    },
    {
     "name": "stderr",
     "output_type": "stream",
     "text": [
      " 26%|██▌       | 26/100 [00:33<01:34,  1.28s/it]\n"
     ]
    },
    {
     "name": "stdout",
     "output_type": "stream",
     "text": [
      "===> Iters[3426](3426/5000): Loss: 5.2943\n"
     ]
    },
    {
     "name": "stderr",
     "output_type": "stream",
     "text": [
      " 26%|██▌       | 26/100 [00:33<01:35,  1.28s/it]\n"
     ]
    },
    {
     "name": "stdout",
     "output_type": "stream",
     "text": [
      "===> Iters[3452](3452/5000): Loss: 5.2657\n"
     ]
    },
    {
     "name": "stderr",
     "output_type": "stream",
     "text": [
      " 26%|██▌       | 26/100 [00:33<01:34,  1.27s/it]\n"
     ]
    },
    {
     "name": "stdout",
     "output_type": "stream",
     "text": [
      "===> Iters[3478](3478/5000): Loss: 5.3705\n"
     ]
    },
    {
     "name": "stderr",
     "output_type": "stream",
     "text": [
      " 22%|██▏       | 22/100 [00:28<01:42,  1.31s/it]\n"
     ]
    },
    {
     "name": "stdout",
     "output_type": "stream",
     "text": [
      "===> Iters[3500](3500/5000): Loss: 4.5771\n",
      "Checkpoint saved to ./work_dir/irdrop_mavi//swinTransformer_iters_3500.pth\n"
     ]
    },
    {
     "name": "stderr",
     "output_type": "stream",
     "text": [
      " 26%|██▌       | 26/100 [00:33<01:36,  1.30s/it]\n"
     ]
    },
    {
     "name": "stdout",
     "output_type": "stream",
     "text": [
      "===> Iters[3526](3526/5000): Loss: 5.4150\n"
     ]
    },
    {
     "name": "stderr",
     "output_type": "stream",
     "text": [
      " 26%|██▌       | 26/100 [00:33<01:35,  1.29s/it]\n"
     ]
    },
    {
     "name": "stdout",
     "output_type": "stream",
     "text": [
      "===> Iters[3552](3552/5000): Loss: 5.2583\n"
     ]
    },
    {
     "name": "stderr",
     "output_type": "stream",
     "text": [
      " 26%|██▌       | 26/100 [00:33<01:35,  1.29s/it]\n"
     ]
    },
    {
     "name": "stdout",
     "output_type": "stream",
     "text": [
      "===> Iters[3578](3578/5000): Loss: 5.2684\n"
     ]
    },
    {
     "name": "stderr",
     "output_type": "stream",
     "text": [
      " 22%|██▏       | 22/100 [00:29<01:43,  1.32s/it]\n"
     ]
    },
    {
     "name": "stdout",
     "output_type": "stream",
     "text": [
      "===> Iters[3600](3600/5000): Loss: 4.4548\n",
      "Checkpoint saved to ./work_dir/irdrop_mavi//swinTransformer_iters_3600.pth\n"
     ]
    },
    {
     "name": "stderr",
     "output_type": "stream",
     "text": [
      " 26%|██▌       | 26/100 [00:33<01:35,  1.29s/it]\n"
     ]
    },
    {
     "name": "stdout",
     "output_type": "stream",
     "text": [
      "===> Iters[3626](3626/5000): Loss: 5.3056\n"
     ]
    },
    {
     "name": "stderr",
     "output_type": "stream",
     "text": [
      " 26%|██▌       | 26/100 [00:33<01:34,  1.28s/it]\n"
     ]
    },
    {
     "name": "stdout",
     "output_type": "stream",
     "text": [
      "===> Iters[3652](3652/5000): Loss: 5.2960\n"
     ]
    },
    {
     "name": "stderr",
     "output_type": "stream",
     "text": [
      " 26%|██▌       | 26/100 [00:33<01:34,  1.28s/it]\n"
     ]
    },
    {
     "name": "stdout",
     "output_type": "stream",
     "text": [
      "===> Iters[3678](3678/5000): Loss: 5.3340\n"
     ]
    },
    {
     "name": "stderr",
     "output_type": "stream",
     "text": [
      " 22%|██▏       | 22/100 [00:29<01:43,  1.33s/it]\n"
     ]
    },
    {
     "name": "stdout",
     "output_type": "stream",
     "text": [
      "===> Iters[3700](3700/5000): Loss: 4.5517\n",
      "Checkpoint saved to ./work_dir/irdrop_mavi//swinTransformer_iters_3700.pth\n"
     ]
    },
    {
     "name": "stderr",
     "output_type": "stream",
     "text": [
      " 26%|██▌       | 26/100 [00:34<01:38,  1.33s/it]\n"
     ]
    },
    {
     "name": "stdout",
     "output_type": "stream",
     "text": [
      "===> Iters[3726](3726/5000): Loss: 5.2408\n"
     ]
    },
    {
     "name": "stderr",
     "output_type": "stream",
     "text": [
      " 26%|██▌       | 26/100 [00:33<01:35,  1.30s/it]\n"
     ]
    },
    {
     "name": "stdout",
     "output_type": "stream",
     "text": [
      "===> Iters[3752](3752/5000): Loss: 5.2684\n"
     ]
    },
    {
     "name": "stderr",
     "output_type": "stream",
     "text": [
      " 26%|██▌       | 26/100 [00:35<01:39,  1.35s/it]\n"
     ]
    },
    {
     "name": "stdout",
     "output_type": "stream",
     "text": [
      "===> Iters[3778](3778/5000): Loss: 5.2472\n"
     ]
    },
    {
     "name": "stderr",
     "output_type": "stream",
     "text": [
      " 22%|██▏       | 22/100 [00:31<01:51,  1.43s/it]\n"
     ]
    },
    {
     "name": "stdout",
     "output_type": "stream",
     "text": [
      "===> Iters[3800](3800/5000): Loss: 4.4570\n",
      "Checkpoint saved to ./work_dir/irdrop_mavi//swinTransformer_iters_3800.pth\n"
     ]
    },
    {
     "name": "stderr",
     "output_type": "stream",
     "text": [
      " 26%|██▌       | 26/100 [00:34<01:38,  1.33s/it]\n"
     ]
    },
    {
     "name": "stdout",
     "output_type": "stream",
     "text": [
      "===> Iters[3826](3826/5000): Loss: 5.2960\n"
     ]
    },
    {
     "name": "stderr",
     "output_type": "stream",
     "text": [
      " 26%|██▌       | 26/100 [00:33<01:36,  1.31s/it]\n"
     ]
    },
    {
     "name": "stdout",
     "output_type": "stream",
     "text": [
      "===> Iters[3852](3852/5000): Loss: 5.3442\n"
     ]
    },
    {
     "name": "stderr",
     "output_type": "stream",
     "text": [
      " 26%|██▌       | 26/100 [00:34<01:37,  1.32s/it]\n"
     ]
    },
    {
     "name": "stdout",
     "output_type": "stream",
     "text": [
      "===> Iters[3878](3878/5000): Loss: 5.3705\n"
     ]
    },
    {
     "name": "stderr",
     "output_type": "stream",
     "text": [
      " 22%|██▏       | 22/100 [00:29<01:44,  1.34s/it]\n"
     ]
    },
    {
     "name": "stdout",
     "output_type": "stream",
     "text": [
      "===> Iters[3900](3900/5000): Loss: 4.4694\n",
      "Checkpoint saved to ./work_dir/irdrop_mavi//swinTransformer_iters_3900.pth\n"
     ]
    },
    {
     "name": "stderr",
     "output_type": "stream",
     "text": [
      " 26%|██▌       | 26/100 [00:34<01:37,  1.32s/it]\n"
     ]
    },
    {
     "name": "stdout",
     "output_type": "stream",
     "text": [
      "===> Iters[3926](3926/5000): Loss: 5.2088\n"
     ]
    },
    {
     "name": "stderr",
     "output_type": "stream",
     "text": [
      " 26%|██▌       | 26/100 [00:34<01:37,  1.32s/it]\n"
     ]
    },
    {
     "name": "stdout",
     "output_type": "stream",
     "text": [
      "===> Iters[3952](3952/5000): Loss: 5.3036\n"
     ]
    },
    {
     "name": "stderr",
     "output_type": "stream",
     "text": [
      " 26%|██▌       | 26/100 [00:34<01:37,  1.31s/it]\n"
     ]
    },
    {
     "name": "stdout",
     "output_type": "stream",
     "text": [
      "===> Iters[3978](3978/5000): Loss: 5.2321\n"
     ]
    },
    {
     "name": "stderr",
     "output_type": "stream",
     "text": [
      " 22%|██▏       | 22/100 [00:29<01:45,  1.36s/it]\n"
     ]
    },
    {
     "name": "stdout",
     "output_type": "stream",
     "text": [
      "===> Iters[4000](4000/5000): Loss: 4.4967\n",
      "Checkpoint saved to ./work_dir/irdrop_mavi//swinTransformer_iters_4000.pth\n"
     ]
    },
    {
     "name": "stderr",
     "output_type": "stream",
     "text": [
      " 26%|██▌       | 26/100 [00:34<01:37,  1.32s/it]\n"
     ]
    },
    {
     "name": "stdout",
     "output_type": "stream",
     "text": [
      "===> Iters[4026](4026/5000): Loss: 5.2503\n"
     ]
    },
    {
     "name": "stderr",
     "output_type": "stream",
     "text": [
      " 26%|██▌       | 26/100 [00:34<01:37,  1.32s/it]\n"
     ]
    },
    {
     "name": "stdout",
     "output_type": "stream",
     "text": [
      "===> Iters[4052](4052/5000): Loss: 5.3340\n"
     ]
    },
    {
     "name": "stderr",
     "output_type": "stream",
     "text": [
      " 26%|██▌       | 26/100 [00:34<01:37,  1.32s/it]\n"
     ]
    },
    {
     "name": "stdout",
     "output_type": "stream",
     "text": [
      "===> Iters[4078](4078/5000): Loss: 5.2883\n"
     ]
    },
    {
     "name": "stderr",
     "output_type": "stream",
     "text": [
      " 22%|██▏       | 22/100 [00:29<01:44,  1.34s/it]\n"
     ]
    },
    {
     "name": "stdout",
     "output_type": "stream",
     "text": [
      "===> Iters[4100](4100/5000): Loss: 4.5436\n",
      "Checkpoint saved to ./work_dir/irdrop_mavi//swinTransformer_iters_4100.pth\n"
     ]
    },
    {
     "name": "stderr",
     "output_type": "stream",
     "text": [
      " 26%|██▌       | 26/100 [00:34<01:38,  1.33s/it]\n"
     ]
    },
    {
     "name": "stdout",
     "output_type": "stream",
     "text": [
      "===> Iters[4126](4126/5000): Loss: 5.3746\n"
     ]
    },
    {
     "name": "stderr",
     "output_type": "stream",
     "text": [
      " 26%|██▌       | 26/100 [00:34<01:37,  1.32s/it]\n"
     ]
    },
    {
     "name": "stdout",
     "output_type": "stream",
     "text": [
      "===> Iters[4152](4152/5000): Loss: 5.2784\n"
     ]
    },
    {
     "name": "stderr",
     "output_type": "stream",
     "text": [
      " 26%|██▌       | 26/100 [00:34<01:38,  1.33s/it]\n"
     ]
    },
    {
     "name": "stdout",
     "output_type": "stream",
     "text": [
      "===> Iters[4178](4178/5000): Loss: 5.3150\n"
     ]
    },
    {
     "name": "stderr",
     "output_type": "stream",
     "text": [
      " 22%|██▏       | 22/100 [00:29<01:46,  1.36s/it]\n"
     ]
    },
    {
     "name": "stdout",
     "output_type": "stream",
     "text": [
      "===> Iters[4200](4200/5000): Loss: 4.4720\n",
      "Checkpoint saved to ./work_dir/irdrop_mavi//swinTransformer_iters_4200.pth\n"
     ]
    },
    {
     "name": "stderr",
     "output_type": "stream",
     "text": [
      " 26%|██▌       | 26/100 [00:34<01:38,  1.33s/it]\n"
     ]
    },
    {
     "name": "stdout",
     "output_type": "stream",
     "text": [
      "===> Iters[4226](4226/5000): Loss: 5.2503\n"
     ]
    },
    {
     "name": "stderr",
     "output_type": "stream",
     "text": [
      " 26%|██▌       | 26/100 [00:34<01:37,  1.32s/it]\n"
     ]
    },
    {
     "name": "stdout",
     "output_type": "stream",
     "text": [
      "===> Iters[4252](4252/5000): Loss: 5.3036\n"
     ]
    },
    {
     "name": "stderr",
     "output_type": "stream",
     "text": [
      " 26%|██▌       | 26/100 [00:34<01:39,  1.34s/it]\n"
     ]
    },
    {
     "name": "stdout",
     "output_type": "stream",
     "text": [
      "===> Iters[4278](4278/5000): Loss: 5.2404\n"
     ]
    },
    {
     "name": "stderr",
     "output_type": "stream",
     "text": [
      " 22%|██▏       | 22/100 [00:30<01:46,  1.37s/it]\n"
     ]
    },
    {
     "name": "stdout",
     "output_type": "stream",
     "text": [
      "===> Iters[4300](4300/5000): Loss: 4.5246\n",
      "Checkpoint saved to ./work_dir/irdrop_mavi//swinTransformer_iters_4300.pth\n"
     ]
    },
    {
     "name": "stderr",
     "output_type": "stream",
     "text": [
      " 26%|██▌       | 26/100 [00:34<01:38,  1.33s/it]\n"
     ]
    },
    {
     "name": "stdout",
     "output_type": "stream",
     "text": [
      "===> Iters[4326](4326/5000): Loss: 5.2395\n"
     ]
    },
    {
     "name": "stderr",
     "output_type": "stream",
     "text": [
      " 26%|██▌       | 26/100 [00:34<01:38,  1.33s/it]\n"
     ]
    },
    {
     "name": "stdout",
     "output_type": "stream",
     "text": [
      "===> Iters[4352](4352/5000): Loss: 5.2043\n"
     ]
    },
    {
     "name": "stderr",
     "output_type": "stream",
     "text": [
      " 26%|██▌       | 26/100 [00:34<01:37,  1.32s/it]\n"
     ]
    },
    {
     "name": "stdout",
     "output_type": "stream",
     "text": [
      "===> Iters[4378](4378/5000): Loss: 5.2928\n"
     ]
    },
    {
     "name": "stderr",
     "output_type": "stream",
     "text": [
      " 22%|██▏       | 22/100 [00:29<01:45,  1.35s/it]\n"
     ]
    },
    {
     "name": "stdout",
     "output_type": "stream",
     "text": [
      "===> Iters[4400](4400/5000): Loss: 4.5509\n",
      "Checkpoint saved to ./work_dir/irdrop_mavi//swinTransformer_iters_4400.pth\n"
     ]
    },
    {
     "name": "stderr",
     "output_type": "stream",
     "text": [
      " 26%|██▌       | 26/100 [00:34<01:38,  1.33s/it]\n"
     ]
    },
    {
     "name": "stdout",
     "output_type": "stream",
     "text": [
      "===> Iters[4426](4426/5000): Loss: 5.3317\n"
     ]
    },
    {
     "name": "stderr",
     "output_type": "stream",
     "text": [
      " 26%|██▌       | 26/100 [00:35<01:39,  1.35s/it]\n"
     ]
    },
    {
     "name": "stdout",
     "output_type": "stream",
     "text": [
      "===> Iters[4452](4452/5000): Loss: 5.3340\n"
     ]
    },
    {
     "name": "stderr",
     "output_type": "stream",
     "text": [
      " 26%|██▌       | 26/100 [00:34<01:39,  1.34s/it]\n"
     ]
    },
    {
     "name": "stdout",
     "output_type": "stream",
     "text": [
      "===> Iters[4478](4478/5000): Loss: 5.3515\n"
     ]
    },
    {
     "name": "stderr",
     "output_type": "stream",
     "text": [
      " 22%|██▏       | 22/100 [00:30<01:46,  1.37s/it]\n"
     ]
    },
    {
     "name": "stdout",
     "output_type": "stream",
     "text": [
      "===> Iters[4500](4500/5000): Loss: 4.4621\n",
      "Checkpoint saved to ./work_dir/irdrop_mavi//swinTransformer_iters_4500.pth\n"
     ]
    },
    {
     "name": "stderr",
     "output_type": "stream",
     "text": [
      " 26%|██▌       | 26/100 [00:34<01:38,  1.34s/it]\n"
     ]
    },
    {
     "name": "stdout",
     "output_type": "stream",
     "text": [
      "===> Iters[4526](4526/5000): Loss: 5.3781\n"
     ]
    },
    {
     "name": "stderr",
     "output_type": "stream",
     "text": [
      " 26%|██▌       | 26/100 [00:34<01:38,  1.33s/it]\n"
     ]
    },
    {
     "name": "stdout",
     "output_type": "stream",
     "text": [
      "===> Iters[4552](4552/5000): Loss: 5.3664\n"
     ]
    },
    {
     "name": "stderr",
     "output_type": "stream",
     "text": [
      " 26%|██▌       | 26/100 [00:34<01:38,  1.34s/it]\n"
     ]
    },
    {
     "name": "stdout",
     "output_type": "stream",
     "text": [
      "===> Iters[4578](4578/5000): Loss: 5.3525\n"
     ]
    },
    {
     "name": "stderr",
     "output_type": "stream",
     "text": [
      " 22%|██▏       | 22/100 [00:30<01:46,  1.37s/it]\n"
     ]
    },
    {
     "name": "stdout",
     "output_type": "stream",
     "text": [
      "===> Iters[4600](4600/5000): Loss: 4.3906\n",
      "Checkpoint saved to ./work_dir/irdrop_mavi//swinTransformer_iters_4600.pth\n"
     ]
    },
    {
     "name": "stderr",
     "output_type": "stream",
     "text": [
      " 26%|██▌       | 26/100 [00:34<01:39,  1.34s/it]\n"
     ]
    },
    {
     "name": "stdout",
     "output_type": "stream",
     "text": [
      "===> Iters[4626](4626/5000): Loss: 5.2650\n"
     ]
    },
    {
     "name": "stderr",
     "output_type": "stream",
     "text": [
      " 26%|██▌       | 26/100 [00:34<01:38,  1.33s/it]\n"
     ]
    },
    {
     "name": "stdout",
     "output_type": "stream",
     "text": [
      "===> Iters[4652](4652/5000): Loss: 5.3340\n"
     ]
    },
    {
     "name": "stderr",
     "output_type": "stream",
     "text": [
      " 26%|██▌       | 26/100 [00:34<01:38,  1.33s/it]\n"
     ]
    },
    {
     "name": "stdout",
     "output_type": "stream",
     "text": [
      "===> Iters[4678](4678/5000): Loss: 5.3317\n"
     ]
    },
    {
     "name": "stderr",
     "output_type": "stream",
     "text": [
      " 22%|██▏       | 22/100 [00:29<01:45,  1.36s/it]\n"
     ]
    },
    {
     "name": "stdout",
     "output_type": "stream",
     "text": [
      "===> Iters[4700](4700/5000): Loss: 4.5112\n",
      "Checkpoint saved to ./work_dir/irdrop_mavi//swinTransformer_iters_4700.pth\n"
     ]
    },
    {
     "name": "stderr",
     "output_type": "stream",
     "text": [
      " 26%|██▌       | 26/100 [00:34<01:38,  1.33s/it]\n"
     ]
    },
    {
     "name": "stdout",
     "output_type": "stream",
     "text": [
      "===> Iters[4726](4726/5000): Loss: 5.3056\n"
     ]
    },
    {
     "name": "stderr",
     "output_type": "stream",
     "text": [
      " 26%|██▌       | 26/100 [00:34<01:38,  1.33s/it]\n"
     ]
    },
    {
     "name": "stdout",
     "output_type": "stream",
     "text": [
      "===> Iters[4752](4752/5000): Loss: 5.3697\n"
     ]
    },
    {
     "name": "stderr",
     "output_type": "stream",
     "text": [
      " 26%|██▌       | 26/100 [00:34<01:39,  1.34s/it]\n"
     ]
    },
    {
     "name": "stdout",
     "output_type": "stream",
     "text": [
      "===> Iters[4778](4778/5000): Loss: 5.2752\n"
     ]
    },
    {
     "name": "stderr",
     "output_type": "stream",
     "text": [
      " 22%|██▏       | 22/100 [00:29<01:45,  1.36s/it]\n"
     ]
    },
    {
     "name": "stdout",
     "output_type": "stream",
     "text": [
      "===> Iters[4800](4800/5000): Loss: 4.4849\n",
      "Checkpoint saved to ./work_dir/irdrop_mavi//swinTransformer_iters_4800.pth\n"
     ]
    },
    {
     "name": "stderr",
     "output_type": "stream",
     "text": [
      " 26%|██▌       | 26/100 [00:34<01:38,  1.34s/it]\n"
     ]
    },
    {
     "name": "stdout",
     "output_type": "stream",
     "text": [
      "===> Iters[4826](4826/5000): Loss: 5.3664\n"
     ]
    },
    {
     "name": "stderr",
     "output_type": "stream",
     "text": [
      " 26%|██▌       | 26/100 [00:34<01:39,  1.34s/it]\n"
     ]
    },
    {
     "name": "stdout",
     "output_type": "stream",
     "text": [
      "===> Iters[4852](4852/5000): Loss: 5.2221\n"
     ]
    },
    {
     "name": "stderr",
     "output_type": "stream",
     "text": [
      " 26%|██▌       | 26/100 [00:35<01:39,  1.35s/it]\n"
     ]
    },
    {
     "name": "stdout",
     "output_type": "stream",
     "text": [
      "===> Iters[4878](4878/5000): Loss: 5.2898\n"
     ]
    },
    {
     "name": "stderr",
     "output_type": "stream",
     "text": [
      " 22%|██▏       | 22/100 [00:29<01:46,  1.36s/it]\n"
     ]
    },
    {
     "name": "stdout",
     "output_type": "stream",
     "text": [
      "===> Iters[4900](4900/5000): Loss: 4.4773\n",
      "Checkpoint saved to ./work_dir/irdrop_mavi//swinTransformer_iters_4900.pth\n"
     ]
    },
    {
     "name": "stderr",
     "output_type": "stream",
     "text": [
      " 26%|██▌       | 26/100 [00:34<01:38,  1.33s/it]\n"
     ]
    },
    {
     "name": "stdout",
     "output_type": "stream",
     "text": [
      "===> Iters[4926](4926/5000): Loss: 5.2364\n"
     ]
    },
    {
     "name": "stderr",
     "output_type": "stream",
     "text": [
      " 26%|██▌       | 26/100 [00:35<01:39,  1.35s/it]\n"
     ]
    },
    {
     "name": "stdout",
     "output_type": "stream",
     "text": [
      "===> Iters[4952](4952/5000): Loss: 5.2364\n"
     ]
    },
    {
     "name": "stderr",
     "output_type": "stream",
     "text": [
      " 26%|██▌       | 26/100 [00:34<01:39,  1.34s/it]\n"
     ]
    },
    {
     "name": "stdout",
     "output_type": "stream",
     "text": [
      "===> Iters[4978](4978/5000): Loss: 5.2609\n"
     ]
    },
    {
     "name": "stderr",
     "output_type": "stream",
     "text": [
      " 22%|██▏       | 22/100 [00:30<01:46,  1.37s/it]\n"
     ]
    },
    {
     "name": "stdout",
     "output_type": "stream",
     "text": [
      "===> Iters[5000](5000/5000): Loss: 4.5159\n",
      "Checkpoint saved to ./work_dir/irdrop_mavi//swinTransformer_iters_5000.pth\n"
     ]
    }
   ],
   "source": [
    "import utils.losses as losses\n",
    "import torch.optim as optim\n",
    "from tqdm import tqdm\n",
    "from math import cos, pi\n",
    "model.train()\n",
    "\n",
    "def checkpoint(model, epoch, save_path):\n",
    "    if not os.path.exists(save_path):\n",
    "        os.makedirs(save_path)\n",
    "    model_out_path = f\"./{save_path}/swinTransformer_iters_{epoch}.pth\"\n",
    "    torch.save({'state_dict': model.state_dict()}, model_out_path)\n",
    "    print(\"Checkpoint saved to {}\".format(model_out_path))\n",
    "\n",
    "class CosineRestartLr(object):\n",
    "    def __init__(self,\n",
    "                 base_lr,\n",
    "                 periods,\n",
    "                 restart_weights = [1],\n",
    "                 min_lr = None,\n",
    "                 min_lr_ratio = None):\n",
    "        self.periods = periods\n",
    "        self.min_lr = min_lr\n",
    "        self.min_lr_ratio = min_lr_ratio\n",
    "        self.restart_weights = restart_weights\n",
    "        super().__init__()\n",
    "\n",
    "        self.cumulative_periods = [\n",
    "            sum(self.periods[0:i + 1]) for i in range(0, len(self.periods))\n",
    "        ]\n",
    "\n",
    "        self.base_lr = base_lr\n",
    "\n",
    "    def annealing_cos(self, start: float,\n",
    "                    end: float,\n",
    "                    factor: float,\n",
    "                    weight: float = 1.) -> float:\n",
    "        cos_out = cos(pi * factor) + 1\n",
    "        return end + 0.5 * weight * (start - end) * cos_out\n",
    "\n",
    "    def get_position_from_periods(self, iteration: int, cumulative_periods):\n",
    "        for i, period in enumerate(cumulative_periods):\n",
    "            if iteration < period:\n",
    "                return i\n",
    "        raise ValueError(f'Current iteration {iteration} exceeds '\n",
    "                        f'cumulative_periods {cumulative_periods}')\n",
    "\n",
    "\n",
    "    def get_lr(self, iter_num, base_lr: float):\n",
    "        target_lr = self.min_lr  # type:ignore\n",
    "\n",
    "        idx = self.get_position_from_periods(iter_num, self.cumulative_periods)\n",
    "        current_weight = self.restart_weights[idx]\n",
    "        nearest_restart = 0 if idx == 0 else self.cumulative_periods[idx - 1]\n",
    "        current_periods = self.periods[idx]\n",
    "\n",
    "        alpha = min((iter_num - nearest_restart) / current_periods, 1)\n",
    "        return self.annealing_cos(base_lr, target_lr, alpha, current_weight)\n",
    "\n",
    "    \n",
    "    def _set_lr(self, optimizer, lr_groups):\n",
    "        if isinstance(optimizer, dict):\n",
    "            for k, optim in optimizer.items():\n",
    "                for param_group, lr in zip(optim.param_groups, lr_groups[k]):\n",
    "                    param_group['lr'] = lr\n",
    "        else:\n",
    "            for param_group, lr in zip(optimizer.param_groups,\n",
    "                                        lr_groups):\n",
    "                param_group['lr'] = lr\n",
    "\n",
    "    def get_regular_lr(self, iter_num):\n",
    "        return [self.get_lr(iter_num, _base_lr) for _base_lr in self.base_lr]  # iters\n",
    "\n",
    "    def set_init_lr(self, optimizer):\n",
    "        for group in optimizer.param_groups:  # type: ignore\n",
    "            group.setdefault('initial_lr', group['lr'])\n",
    "            self.base_lr = [group['initial_lr'] for group in optimizer.param_groups  # type: ignore\n",
    "        ]\n",
    "\n",
    "\n",
    "# Build loss\n",
    "loss = losses.__dict__['L1Loss']()\n",
    "\n",
    "# arg_dict = {'task': 'irdrop_mavi', 'save_path': 'work_dir/irdrop_mavi/', 'pretrained': None, 'max_iters': 2500, 'plot_roc': False, 'arg_file': None, 'cpu': True, 'dataroot': 'CircuitNet-N28/training_set/IR_drop', 'ann_file_train': './files/train_N28.csv', 'ann_file_test': './files/test_N28.csv', 'dataset_type': 'IRDropDataset', 'batch_size': 2, 'model_type': 'MAVI', 'in_channels': 1, 'out_channels': 4, 'lr': 0.0002, 'weight_decay': 0.01, 'loss_type': 'L1Loss', 'eval_metric': ['NRMS', 'SSIM'], 'threshold': 0.9885, 'ann_file': './files/train_N28.csv', 'test_mode': False}\n",
    "arg_dict = {'task': 'irdrop_mavi', 'save_path': 'work_dir/irdrop_mavi/', 'pretrained': None, 'max_iters': 5000, 'plot_roc': True, 'arg_file': None, 'cpu': True, 'dataroot': 'CircuitNet-N28/training_set/IR_drop', 'ann_file_train': './files/train_N28.csv', 'ann_file_test': './files/test_N28.csv', 'dataset_type': 'IRDropDataset', 'batch_size': 2, 'model_type': 'MAVI', 'in_channels': 1, 'out_channels': 4, 'lr': 0.00005, 'weight_decay': 0.01, 'loss_type': 'L1Loss', 'eval_metric': ['NRMS', 'SSIM'], 'threshold': 0.9885, 'ann_file': './files/train_N28.csv', 'test_mode': False}\n",
    "\n",
    "# Build Optimzer\n",
    "optimizer = optim.AdamW(model.parameters(), lr=arg_dict['lr'],  betas=(0.9, 0.999), weight_decay=arg_dict['weight_decay'])\n",
    "\n",
    "# Build lr scheduler\n",
    "cosine_lr = CosineRestartLr(arg_dict['lr'], [arg_dict['max_iters']], [1], 1e-7)\n",
    "cosine_lr.set_init_lr(optimizer)\n",
    "\n",
    "epoch_loss = 0\n",
    "iter_num = 0\n",
    "print_freq = 100\n",
    "# save_freq = 10000\n",
    "save_freq = 100\n",
    "\n",
    "while iter_num < arg_dict['max_iters']:\n",
    "    with tqdm(total=print_freq) as bar:\n",
    "        # for feature, label, _ in dataset:     \n",
    "        for feature, label in dataloader:   \n",
    "            if arg_dict['cpu']:\n",
    "                input, target = feature, label\n",
    "            else:\n",
    "                input, target = feature.cuda(), label.cuda()\n",
    "\n",
    "            regular_lr = cosine_lr.get_regular_lr(iter_num)\n",
    "            cosine_lr._set_lr(optimizer, regular_lr)\n",
    "\n",
    "            prediction = model(input)\n",
    "            # print(input.shape)\n",
    "\n",
    "            optimizer.zero_grad()\n",
    "            pixel_loss = loss(prediction, target)\n",
    "\n",
    "            epoch_loss += pixel_loss.item()\n",
    "            pixel_loss.backward()\n",
    "            optimizer.step()\n",
    "\n",
    "            iter_num += 1\n",
    "            \n",
    "            bar.update(1)\n",
    "\n",
    "            if iter_num % print_freq == 0:\n",
    "                break\n",
    "\n",
    "    print(\"===> Iters[{}]({}/{}): Loss: {:.4f}\".format(iter_num, iter_num, arg_dict['max_iters'], epoch_loss / print_freq))\n",
    "    if iter_num % save_freq == 0:\n",
    "        checkpoint(model, iter_num, arg_dict['save_path'])\n",
    "    epoch_loss = 0"
   ]
  }
 ],
 "metadata": {
  "kernelspec": {
   "display_name": "base",
   "language": "python",
   "name": "python3"
  },
  "language_info": {
   "codemirror_mode": {
    "name": "ipython",
    "version": 3
   },
   "file_extension": ".py",
   "mimetype": "text/x-python",
   "name": "python",
   "nbconvert_exporter": "python",
   "pygments_lexer": "ipython3",
   "version": "3.9.12"
  }
 },
 "nbformat": 4,
 "nbformat_minor": 2
}
