{
 "cells": [
  {
   "cell_type": "code",
   "execution_count": 1,
   "metadata": {},
   "outputs": [
    {
     "name": "stderr",
     "output_type": "stream",
     "text": [
      "d:\\anaconda3\\envs\\HF\\Lib\\site-packages\\tqdm\\auto.py:21: TqdmWarning: IProgress not found. Please update jupyter and ipywidgets. See https://ipywidgets.readthedocs.io/en/stable/user_install.html\n",
      "  from .autonotebook import tqdm as notebook_tqdm\n"
     ]
    }
   ],
   "source": [
    "import numpy as np\n",
    "import torch\n",
    "import torch.nn as nn\n",
    "import torch.utils.checkpoint as checkpoint\n",
    "from PIL import Image \n",
    "import torchvision.transforms as transforms \n",
    "import matplotlib.pyplot as plt\n",
    "import seaborn as sns\n",
    "import os\n",
    "from torch.utils.data import Dataset, DataLoader\n",
    "import torch.nn.functional as F"
   ]
  },
  {
   "cell_type": "markdown",
   "metadata": {},
   "source": [
    "Prepare data"
   ]
  },
  {
   "cell_type": "code",
   "execution_count": 2,
   "metadata": {},
   "outputs": [],
   "source": [
    "\n",
    "def get_sub_path(path):\n",
    "    sub_path = []\n",
    "    if isinstance(path, list):\n",
    "        for p in path:\n",
    "            if os.path.isdir(p):\n",
    "                for file in os.listdir(p):\n",
    "                    sub_path.append(os.path.join(p, file))\n",
    "            else:\n",
    "                continue\n",
    "    else:\n",
    "        for file in os.listdir(path):\n",
    "            sub_path.append(os.path.join(path, file))\n",
    "    return sub_path\n",
    "\n",
    "def divide_list(list, n):\n",
    "    for i in range(0, len(list), n):\n",
    "        yield list[i:i + n]\n",
    "        \n",
    "def std(input):\n",
    "    if input.max() == 0:\n",
    "        return input\n",
    "    else:\n",
    "        result = (input-input.min()) / (input.max()-input.min())\n",
    "        return result"
   ]
  },
  {
   "cell_type": "code",
   "execution_count": 3,
   "metadata": {},
   "outputs": [],
   "source": [
    "feature_list = ['IR_drop_features_decompressed/power_i', 'IR_drop_features_decompressed/power_s', \n",
    "        'IR_drop_features_decompressed/power_sca', 'IR_drop_features_decompressed/power_all']\n",
    "label_list = ['IR_drop_features_decompressed/IR_drop']\n",
    "        \n",
    "datapath = '../../CircuitNet/CircuitNet-N28/'\n",
    "name_list = get_sub_path(os.path.join(datapath, feature_list[-1]))\n",
    "n_list = divide_list(name_list, 1000)"
   ]
  },
  {
   "cell_type": "code",
   "execution_count": 4,
   "metadata": {},
   "outputs": [],
   "source": [
    "class PowerDataset(Dataset):\n",
    "    def __init__(self, root_dir, target_size=(224, 224)):\n",
    "        self.root_dir = root_dir\n",
    "        self.feature_dirs = ['power_i', 'power_s', 'power_sca', 'Power_all']\n",
    "        self.label_dir = 'IR_drop'\n",
    "        self.target_size = target_size\n",
    "        # Collect all the feature and label file paths\n",
    "        self.data = []\n",
    "        i=0\n",
    "        for case_name in os.listdir(os.path.join(root_dir, self.feature_dirs[0])):\n",
    "            feature_paths = [os.path.join(root_dir, feature_dir, case_name) for feature_dir in self.feature_dirs]\n",
    "            label_path = os.path.join(root_dir, self.label_dir, case_name)\n",
    "            if all(os.path.exists(fp) for fp in feature_paths) and os.path.exists(label_path):\n",
    "                self.data.append((feature_paths, label_path))\n",
    "            i+=1\n",
    "            if i>100:\n",
    "                break\n",
    "\n",
    "    def __len__(self):\n",
    "        return len(self.data)\n",
    "    \n",
    "    def __getitem__(self, idx):\n",
    "        feature_paths, label_path = self.data[idx]\n",
    "        features = []\n",
    "        \n",
    "        for fp in feature_paths:\n",
    "            feature = np.load(fp)\n",
    "            feature = torch.tensor(feature, dtype=torch.float32)\n",
    "            feature = F.interpolate(feature.unsqueeze(0).unsqueeze(0), size=self.target_size, mode='nearest').squeeze(0).squeeze(0)\n",
    "            feature = std(feature)\n",
    "            features.append(feature)\n",
    "            \n",
    "        features = torch.stack(features, dim=0)\n",
    "        \n",
    "        # Load and process label file\n",
    "        label = np.load(label_path)\n",
    "        label = torch.tensor(label, dtype=torch.float32)\n",
    "        label = F.interpolate(label.unsqueeze(0).unsqueeze(0), size=self.target_size, mode='nearest').squeeze(0).squeeze(0)\n",
    "        label = label.clamp(1e-6, 50)\n",
    "        label = (torch.log10(label)+6)/ (np.log10(50)+6)\n",
    "        \n",
    "        return features, label\n",
    "    \n",
    "root_dir = '../../CircuitNet/CircuitNet-N28/IR_drop_features_decompressed/'\n",
    "dataset = PowerDataset(root_dir)"
   ]
  },
  {
   "cell_type": "code",
   "execution_count": 5,
   "metadata": {},
   "outputs": [
    {
     "name": "stdout",
     "output_type": "stream",
     "text": [
      "torch.Size([2, 4, 224, 224]) torch.Size([2, 224, 224])\n"
     ]
    }
   ],
   "source": [
    "dataloader = DataLoader(dataset, batch_size=4, shuffle=True)\n",
    "\n",
    "for features, labels in dataloader:\n",
    "    print(features.shape, labels.shape)\n",
    "    break"
   ]
  },
  {
   "cell_type": "code",
   "execution_count": 6,
   "metadata": {},
   "outputs": [],
   "source": [
    "from swintransformer import *\n",
    "\n",
    "model_name = 'swin_base_patch4_window7_224'\n",
    "model = init_model(model_name, input_channels=4, num_classes=0, pretrained=True)"
   ]
  },
  {
   "cell_type": "code",
   "execution_count": 7,
   "metadata": {},
   "outputs": [],
   "source": [
    "model.eval()\n",
    "with torch.no_grad():\n",
    "    ir_prediction = model(features)"
   ]
  },
  {
   "cell_type": "code",
   "execution_count": 8,
   "metadata": {},
   "outputs": [
    {
     "data": {
      "text/plain": [
       "torch.Size([2, 1, 224, 224])"
      ]
     },
     "execution_count": 8,
     "metadata": {},
     "output_type": "execute_result"
    }
   ],
   "source": [
    "ir_prediction.shape"
   ]
  },
  {
   "cell_type": "code",
   "execution_count": null,
   "metadata": {},
   "outputs": [],
   "source": []
  }
 ],
 "metadata": {
  "kernelspec": {
   "display_name": "HF",
   "language": "python",
   "name": "python3"
  },
  "language_info": {
   "codemirror_mode": {
    "name": "ipython",
    "version": 3
   },
   "file_extension": ".py",
   "mimetype": "text/x-python",
   "name": "python",
   "nbconvert_exporter": "python",
   "pygments_lexer": "ipython3",
   "version": "3.12.3"
  }
 },
 "nbformat": 4,
 "nbformat_minor": 2
}
